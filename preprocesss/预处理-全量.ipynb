{
 "cells": [
  {
   "cell_type": "code",
   "execution_count": 2,
   "metadata": {
    "collapsed": true
   },
   "outputs": [],
   "source": [
    "import pandas as pd\n",
    "from setup import config\n",
    "import preprocesss.utils as preprocess_utils\n",
    "import numpy as np\n",
    "from sklearn import preprocessing\n",
    "import math"
   ]
  },
  {
   "cell_type": "code",
   "execution_count": 2,
   "metadata": {},
   "outputs": [],
   "source": [
    "feature_all_config = config.cast('feature.all')"
   ]
  },
  {
   "cell_type": "markdown",
   "metadata": {},
   "source": [
    "## 加载训练数据和测试数据"
   ]
  },
  {
   "cell_type": "code",
   "execution_count": 3,
   "metadata": {},
   "outputs": [],
   "source": [
    "data_train_path = config.data.path('train.csv')\n",
    "data_test_path = config.data.path('test.csv')"
   ]
  },
  {
   "cell_type": "code",
   "execution_count": 4,
   "metadata": {},
   "outputs": [],
   "source": [
    "data_train = pd.read_csv(data_train_path)\n",
    "data_test = pd.read_csv(data_test_path)"
   ]
  },
  {
   "cell_type": "markdown",
   "metadata": {},
   "source": [
    "### 检查训练数据和测试数据是否一致"
   ]
  },
  {
   "cell_type": "code",
   "execution_count": 5,
   "metadata": {},
   "outputs": [],
   "source": [
    "data_train_feature = preprocess_utils.get_column_type_pair_list(df=data_train, prefix='ps')\n",
    "data_test_feature = preprocess_utils.get_column_type_pair_list(df=data_test, prefix='ps')"
   ]
  },
  {
   "cell_type": "code",
   "execution_count": 6,
   "metadata": {},
   "outputs": [],
   "source": [
    "data_train_feature_type_int = list(filter(lambda x: 'float' not in x[1], data_train_feature))\n",
    "data_test_feature_type_int = list(filter(lambda x: 'float' not in x[1], data_test_feature))"
   ]
  },
  {
   "cell_type": "code",
   "execution_count": 7,
   "metadata": {},
   "outputs": [
    {
     "name": "stdout",
     "output_type": "stream",
     "text": [
      "col: ps_calc_06\ntrain: [0, 1, 2, 3, 4, 5, 6, 7, 8, 9, 10]\ntest:  [1, 2, 3, 4, 5, 6, 7, 8, 9, 10]\ncol: ps_calc_08\ntrain: [2, 3, 4, 5, 6, 7, 8, 9, 10, 11, 12]\ntest:  [1, 2, 3, 4, 5, 6, 7, 8, 9, 10, 11, 12]\ncol: ps_calc_11\ntrain: [0, 1, 2, 3, 4, 5, 6, 7, 8, 9, 10, 11, 12, 13, 14, 15, 16, 17, 18, 19]\ntest:  [0, 1, 2, 3, 4, 5, 6, 7, 8, 9, 10, 11, 12, 13, 14, 15, 16, 17, 18, 19, 20]\ncol: ps_calc_12\ntrain: [0, 1, 2, 3, 4, 5, 6, 7, 8, 9, 10]\ntest:  [0, 1, 2, 3, 4, 5, 6, 7, 8, 9, 11]\ncol: ps_calc_13\ntrain: [0, 1, 2, 3, 4, 5, 6, 7, 8, 9, 10, 11, 12, 13]\ntest:  [0, 1, 2, 3, 4, 5, 6, 7, 8, 9, 10, 11, 12, 13, 14, 15]\ncol: ps_calc_14\ntrain: [0, 1, 2, 3, 4, 5, 6, 7, 8, 9, 10, 11, 12, 13, 14, 15, 16, 17, 18, 19, 20, 21, 22, 23]\ntest:  [0, 1, 2, 3, 4, 5, 6, 7, 8, 9, 10, 11, 12, 13, 14, 15, 16, 17, 18, 19, 20, 21, 22, 23, 28]\n"
     ]
    }
   ],
   "source": [
    "for col, _type in data_train_feature_type_int:\n",
    "    train_col_unique = sorted(list(pd.unique(data_train[col])))\n",
    "    test_col_unique = sorted(list(pd.unique(data_test[col])))\n",
    "    if train_col_unique != test_col_unique:\n",
    "        print('col: {0}\\ntrain: {1}\\ntest:  {2}'.format(col, train_col_unique, test_col_unique))"
   ]
  },
  {
   "cell_type": "markdown",
   "metadata": {},
   "source": [
    "## 合并数据"
   ]
  },
  {
   "cell_type": "code",
   "execution_count": 8,
   "metadata": {},
   "outputs": [],
   "source": [
    "data_train['set'] = 'train'\n",
    "data_test['set'] = 'test'"
   ]
  },
  {
   "cell_type": "code",
   "execution_count": 9,
   "metadata": {},
   "outputs": [],
   "source": [
    "data = pd.concat([data_train, data_test], axis=0)"
   ]
  },
  {
   "cell_type": "code",
   "execution_count": 10,
   "metadata": {},
   "outputs": [],
   "source": [
    "data_path = config.data.path('data.csv')"
   ]
  },
  {
   "cell_type": "code",
   "execution_count": 11,
   "metadata": {},
   "outputs": [],
   "source": [
    "data.to_csv = data.to_csv(data_path, index=False)"
   ]
  },
  {
   "cell_type": "code",
   "execution_count": null,
   "metadata": {},
   "outputs": [],
   "source": [
    "data = pd.read_csv(data_path)"
   ]
  },
  {
   "cell_type": "markdown",
   "metadata": {},
   "source": [
    "## 处理特征"
   ]
  },
  {
   "cell_type": "code",
   "execution_count": 12,
   "metadata": {},
   "outputs": [],
   "source": [
    "data_original_column_name_list = list(data.columns)"
   ]
  },
  {
   "cell_type": "code",
   "execution_count": 13,
   "metadata": {},
   "outputs": [],
   "source": [
    "# 获取特征列\n",
    "\n",
    "data_feature_list = preprocess_utils.get_column_name_list_by_prefix(\n",
    "    df=data,\n",
    "    prefix='ps'\n",
    ")\n",
    "data_feature_list = sorted(data_feature_list, reverse=False)"
   ]
  },
  {
   "cell_type": "code",
   "execution_count": 14,
   "metadata": {},
   "outputs": [
    {
     "name": "stdout",
     "output_type": "stream",
     "text": [
      "['ps_calc_01', 'ps_calc_02', 'ps_calc_03', 'ps_calc_04', 'ps_calc_05', 'ps_calc_06', 'ps_calc_07', 'ps_calc_08', 'ps_calc_09', 'ps_calc_10', 'ps_calc_11', 'ps_calc_12', 'ps_calc_13', 'ps_calc_14', 'ps_calc_15_bin', 'ps_calc_16_bin', 'ps_calc_17_bin', 'ps_calc_18_bin', 'ps_calc_19_bin', 'ps_calc_20_bin', 'ps_car_01_cat', 'ps_car_02_cat', 'ps_car_03_cat', 'ps_car_04_cat', 'ps_car_05_cat', 'ps_car_06_cat', 'ps_car_07_cat', 'ps_car_08_cat', 'ps_car_09_cat', 'ps_car_10_cat', 'ps_car_11', 'ps_car_11_cat', 'ps_car_12', 'ps_car_13', 'ps_car_14', 'ps_car_15', 'ps_ind_01', 'ps_ind_02_cat', 'ps_ind_03', 'ps_ind_04_cat', 'ps_ind_05_cat', 'ps_ind_06_bin', 'ps_ind_07_bin', 'ps_ind_08_bin', 'ps_ind_09_bin', 'ps_ind_10_bin', 'ps_ind_11_bin', 'ps_ind_12_bin', 'ps_ind_13_bin', 'ps_ind_14', 'ps_ind_15', 'ps_ind_16_bin', 'ps_ind_17_bin', 'ps_ind_18_bin', 'ps_reg_01', 'ps_reg_02', 'ps_reg_03']\n"
     ]
    }
   ],
   "source": [
    "print(data_feature_list)"
   ]
  },
  {
   "cell_type": "code",
   "execution_count": 15,
   "metadata": {},
   "outputs": [],
   "source": [
    "# 检查下存在缺失参数的列\n",
    "\n",
    "feature_list_with_missing_value = preprocess_utils.get_column_name_list_with_missing_value(\n",
    "    df=data,\n",
    "    feature=data_feature_list,\n",
    "    placeholder=-1,\n",
    ")\n",
    "feature_list_with_missing_value = \\\n",
    "    sorted(feature_list_with_missing_value, reverse=False)\n"
   ]
  },
  {
   "cell_type": "code",
   "execution_count": 16,
   "metadata": {},
   "outputs": [
    {
     "name": "stdout",
     "output_type": "stream",
     "text": [
      "['ps_car_01_cat', 'ps_car_02_cat', 'ps_car_03_cat', 'ps_car_05_cat', 'ps_car_07_cat', 'ps_car_09_cat', 'ps_car_11', 'ps_car_12', 'ps_car_14', 'ps_ind_02_cat', 'ps_ind_04_cat', 'ps_ind_05_cat', 'ps_reg_03']\n"
     ]
    }
   ],
   "source": [
    "print(feature_list_with_missing_value)"
   ]
  },
  {
   "cell_type": "code",
   "execution_count": 7,
   "metadata": {},
   "outputs": [],
   "source": [
    "def show_feature_with_missing_value(df: pd.DataFrame, prefix: str, placeholder: int = -1):\n",
    "    sample_number = len(df)\n",
    "    column_name_list_with_missing_value = preprocess_utils.get_column_name_list_with_missing_value(\n",
    "        df=df,\n",
    "        feature=preprocess_utils.get_column_name_list_by_prefix(df=df, prefix=prefix),\n",
    "        placeholder=placeholder,\n",
    "    )\n",
    "    column_name_list_with_missing_value = sorted(column_name_list_with_missing_value, reverse=False)\n",
    "    \n",
    "    for col in column_name_list_with_missing_value:\n",
    "        missing_row_num = len(list(filter(lambda x: x, df[col] == placeholder)))\n",
    "        print(\"col: {0}, dtype: {1}, missing rate: {2}\".format(col, df[col].dtype, missing_row_num/sample_number))"
   ]
  },
  {
   "cell_type": "code",
   "execution_count": 18,
   "metadata": {},
   "outputs": [
    {
     "name": "stdout",
     "output_type": "stream",
     "text": [
      "col: ps_car_01_cat, dtype: int64, missing rate: 0.00017943210746034348\n"
     ]
    },
    {
     "name": "stdout",
     "output_type": "stream",
     "text": [
      "col: ps_car_02_cat, dtype: int64, missing rate: 6.72030365020013e-06\ncol: ps_car_03_cat, dtype: int64, missing rate: 0.6909426435524063\n"
     ]
    },
    {
     "name": "stdout",
     "output_type": "stream",
     "text": [
      "col: ps_car_05_cat, dtype: int64, missing rate: 0.4481837707354969\ncol: ps_car_07_cat, dtype: int64, missing rate: 0.019367915119876778\n"
     ]
    },
    {
     "name": "stdout",
     "output_type": "stream",
     "text": [
      "col: ps_car_09_cat, dtype: int64, missing rate: 0.0009717559078189389\ncol: ps_car_11, dtype: int64, missing rate: 4.032182190120078e-06\n"
     ]
    },
    {
     "name": "stdout",
     "output_type": "stream",
     "text": [
      "col: ps_car_12, dtype: float64, missing rate: 6.720303650200131e-07\ncol: ps_car_14, dtype: float64, missing rate: 0.07152083159725489\n"
     ]
    },
    {
     "name": "stdout",
     "output_type": "stream",
     "text": [
      "col: ps_ind_02_cat, dtype: int64, missing rate: 0.00035147188090546685\ncol: ps_ind_04_cat, dtype: int64, missing rate: 0.00015322292322456297\n"
     ]
    },
    {
     "name": "stdout",
     "output_type": "stream",
     "text": [
      "col: ps_ind_05_cat, dtype: int64, missing rate: 0.00975720886972557\ncol: ps_reg_03, dtype: float64, missing rate: 0.18108261403683265\n"
     ]
    }
   ],
   "source": [
    "show_feature_with_missing_value(data, prefix='ps', placeholder=-1)"
   ]
  },
  {
   "cell_type": "markdown",
   "metadata": {},
   "source": [
    "### 处理特征 `ind`"
   ]
  },
  {
   "cell_type": "code",
   "execution_count": 19,
   "metadata": {},
   "outputs": [],
   "source": [
    "# 特征 ind 的缺失值非常少, 又是整数, 取中位数即可\n",
    "\n",
    "\n",
    "def fix_feature_ind(df: pd.DataFrame) -> pd.DataFrame:\n",
    "    \n",
    "    _df = df.copy()\n",
    "    for col in ['ps_ind_02_cat', 'ps_ind_05_cat', 'ps_ind_04_cat']:\n",
    "        median = _df[col][df[col] != -1].median()\n",
    "        median = int(median)\n",
    "        # mean = data_train_catergory_onehot[col].mean()\n",
    "        # print(data_train[col].value_counts())\n",
    "        print(\"col: {0}, median: {1}\".format(col, median))\n",
    "        _df[col][_df[col] == -1] = median\n",
    "\n",
    "    return _df"
   ]
  },
  {
   "cell_type": "code",
   "execution_count": 20,
   "metadata": {},
   "outputs": [
    {
     "name": "stdout",
     "output_type": "stream",
     "text": [
      "col: ps_ind_02_cat, median: 1\ncol: ps_ind_05_cat, median: 0\ncol: ps_ind_04_cat, median: 0\n"
     ]
    },
    {
     "name": "stderr",
     "output_type": "stream",
     "text": [
      "/mnt/WORK/-.VirtualEnv.Home/DataScience-python3.5/lib/python3.5/site-packages/ipykernel_launcher.py:13: SettingWithCopyWarning: \nA value is trying to be set on a copy of a slice from a DataFrame\n\nSee the caveats in the documentation: http://pandas.pydata.org/pandas-docs/stable/indexing.html#indexing-view-versus-copy\n  del sys.path[0]\n"
     ]
    }
   ],
   "source": [
    "data_p0 = fix_feature_ind(data)"
   ]
  },
  {
   "cell_type": "code",
   "execution_count": 21,
   "metadata": {},
   "outputs": [
    {
     "name": "stdout",
     "output_type": "stream",
     "text": [
      "col: ps_car_01_cat, dtype: int64, missing rate: 0.00017943210746034348\n"
     ]
    },
    {
     "name": "stdout",
     "output_type": "stream",
     "text": [
      "col: ps_car_02_cat, dtype: int64, missing rate: 6.72030365020013e-06\ncol: ps_car_03_cat, dtype: int64, missing rate: 0.6909426435524063\n"
     ]
    },
    {
     "name": "stdout",
     "output_type": "stream",
     "text": [
      "col: ps_car_05_cat, dtype: int64, missing rate: 0.4481837707354969\ncol: ps_car_07_cat, dtype: int64, missing rate: 0.019367915119876778\n"
     ]
    },
    {
     "name": "stdout",
     "output_type": "stream",
     "text": [
      "col: ps_car_09_cat, dtype: int64, missing rate: 0.0009717559078189389\ncol: ps_car_11, dtype: int64, missing rate: 4.032182190120078e-06\n"
     ]
    },
    {
     "name": "stdout",
     "output_type": "stream",
     "text": [
      "col: ps_car_12, dtype: float64, missing rate: 6.720303650200131e-07\ncol: ps_car_14, dtype: float64, missing rate: 0.07152083159725489\n"
     ]
    },
    {
     "name": "stdout",
     "output_type": "stream",
     "text": [
      "col: ps_reg_03, dtype: float64, missing rate: 0.18108261403683265\n"
     ]
    }
   ],
   "source": [
    "# 检查效果\n",
    "\n",
    "show_feature_with_missing_value(df=data_p0, prefix='ps', placeholder=-1)"
   ]
  },
  {
   "cell_type": "markdown",
   "metadata": {},
   "source": [
    "#### 检查特征 `ind` 的数据类型, 如果有浮点类型, 需要归一化"
   ]
  },
  {
   "cell_type": "code",
   "execution_count": 22,
   "metadata": {},
   "outputs": [
    {
     "name": "stdout",
     "output_type": "stream",
     "text": [
      "ps_ind_01 int64\nps_ind_02_cat int64\nps_ind_03 int64\nps_ind_04_cat int64\nps_ind_05_cat int64\nps_ind_06_bin int64\nps_ind_07_bin int64\nps_ind_08_bin int64\nps_ind_09_bin int64\nps_ind_10_bin int64\nps_ind_11_bin int64\nps_ind_12_bin int64\nps_ind_13_bin int64\nps_ind_14 int64\nps_ind_15 int64\nps_ind_16_bin int64\nps_ind_17_bin int64\nps_ind_18_bin int64\n"
     ]
    }
   ],
   "source": [
    "for col, _type in preprocess_utils.get_column_type_pair_list(df=data_p0, prefix='ps_ind'):\n",
    "    print(col, _type)"
   ]
  },
  {
   "cell_type": "markdown",
   "metadata": {},
   "source": [
    "#### 保存"
   ]
  },
  {
   "cell_type": "code",
   "execution_count": 23,
   "metadata": {},
   "outputs": [],
   "source": [
    "# 步骤0 保存路径\n",
    "data_p0_path = config.data.path('data_p0.csv')\n"
   ]
  },
  {
   "cell_type": "code",
   "execution_count": 24,
   "metadata": {},
   "outputs": [],
   "source": [
    "data_p0.to_csv(data_p0_path, index=False)"
   ]
  },
  {
   "cell_type": "code",
   "execution_count": null,
   "metadata": {},
   "outputs": [],
   "source": [
    "data_p0 = pd.read_csv(data_p0_path)"
   ]
  },
  {
   "cell_type": "markdown",
   "metadata": {},
   "source": [
    "### 处理特征 `car`"
   ]
  },
  {
   "cell_type": "markdown",
   "metadata": {},
   "source": [
    "#### 处理缺失值"
   ]
  },
  {
   "cell_type": "code",
   "execution_count": 25,
   "metadata": {},
   "outputs": [
    {
     "name": "stdout",
     "output_type": "stream",
     "text": [
      "col: ps_car_01_cat, dtype: int64, missing rate: 0.00017943210746034348\ncol: ps_car_02_cat, dtype: int64, missing rate: 6.72030365020013e-06\n"
     ]
    },
    {
     "name": "stdout",
     "output_type": "stream",
     "text": [
      "col: ps_car_03_cat, dtype: int64, missing rate: 0.6909426435524063\ncol: ps_car_05_cat, dtype: int64, missing rate: 0.4481837707354969\n"
     ]
    },
    {
     "name": "stdout",
     "output_type": "stream",
     "text": [
      "col: ps_car_07_cat, dtype: int64, missing rate: 0.019367915119876778\ncol: ps_car_09_cat, dtype: int64, missing rate: 0.0009717559078189389\n"
     ]
    },
    {
     "name": "stdout",
     "output_type": "stream",
     "text": [
      "col: ps_car_11, dtype: int64, missing rate: 4.032182190120078e-06\ncol: ps_car_12, dtype: float64, missing rate: 6.720303650200131e-07\n"
     ]
    },
    {
     "name": "stdout",
     "output_type": "stream",
     "text": [
      "col: ps_car_14, dtype: float64, missing rate: 0.07152083159725489\n"
     ]
    }
   ],
   "source": [
    "show_feature_with_missing_value(data_p0, prefix='ps_car', placeholder=-1)"
   ]
  },
  {
   "cell_type": "code",
   "execution_count": 26,
   "metadata": {},
   "outputs": [],
   "source": [
    "def fix_feature_car(df: pd.DataFrame) -> pd.DataFrame:\n",
    "    _df = df.copy()\n",
    "    \n",
    "    # 以下几个整形特征的缺失值非常少, 取中位数\n",
    "    for col in ['ps_car_01_cat', 'ps_car_02_cat', 'ps_car_07_cat', 'ps_car_09_cat', 'ps_car_11']:\n",
    "        median = df[col][df[col] != -1].median()\n",
    "        median = int(median)\n",
    "        # print(df[col].value_counts())\n",
    "        print(\"col: {0}, median: {1}\".format(col, median))\n",
    "        _df[col][_df[col] == -1] = median\n",
    "    \n",
    "    # ps_car_03, ps_car_05 的缺失值非常多, 先放着不管, 直接做独热化处理即可\n",
    "    \n",
    "    # 以下几个浮点特征的缺失值较少, 取中位数\n",
    "    for col in ['ps_car_12', 'ps_car_14']:\n",
    "        mean = df[col][df[col] != -1].mean()\n",
    "        # print(df[col].describe())\n",
    "        print(\"col: {0}, mean: {1}\".format(col, mean))\n",
    "        _df[col][_df[col] == -1] = mean\n",
    "\n",
    "    return _df"
   ]
  },
  {
   "cell_type": "code",
   "execution_count": 27,
   "metadata": {},
   "outputs": [
    {
     "name": "stdout",
     "output_type": "stream",
     "text": [
      "col: ps_car_01_cat, median: 7\ncol: ps_car_02_cat, median: 1\n"
     ]
    },
    {
     "name": "stderr",
     "output_type": "stream",
     "text": [
      "/mnt/WORK/-.VirtualEnv.Home/DataScience-python3.5/lib/python3.5/site-packages/ipykernel_launcher.py:10: SettingWithCopyWarning: \nA value is trying to be set on a copy of a slice from a DataFrame\n\nSee the caveats in the documentation: http://pandas.pydata.org/pandas-docs/stable/indexing.html#indexing-view-versus-copy\n  # Remove the CWD from sys.path while we load stuff.\n"
     ]
    },
    {
     "name": "stdout",
     "output_type": "stream",
     "text": [
      "col: ps_car_07_cat, median: 1\ncol: ps_car_09_cat, median: 2\n"
     ]
    },
    {
     "name": "stdout",
     "output_type": "stream",
     "text": [
      "col: ps_car_11, median: 3\ncol: ps_car_12, mean: 0.379952832334839\n"
     ]
    },
    {
     "name": "stdout",
     "output_type": "stream",
     "text": [
      "col: ps_car_14, mean: 0.3746795999575552\n"
     ]
    },
    {
     "name": "stderr",
     "output_type": "stream",
     "text": [
      "/mnt/WORK/-.VirtualEnv.Home/DataScience-python3.5/lib/python3.5/site-packages/ipykernel_launcher.py:19: SettingWithCopyWarning: \nA value is trying to be set on a copy of a slice from a DataFrame\n\nSee the caveats in the documentation: http://pandas.pydata.org/pandas-docs/stable/indexing.html#indexing-view-versus-copy\n"
     ]
    }
   ],
   "source": [
    "data_p1 = fix_feature_car(data_p0)"
   ]
  },
  {
   "cell_type": "code",
   "execution_count": 28,
   "metadata": {},
   "outputs": [
    {
     "name": "stdout",
     "output_type": "stream",
     "text": [
      "col: ps_car_03_cat, dtype: int64, missing rate: 0.6909426435524063\ncol: ps_car_05_cat, dtype: int64, missing rate: 0.4481837707354969\n"
     ]
    }
   ],
   "source": [
    "show_feature_with_missing_value(data_p1, prefix='ps_car', placeholder=-1)"
   ]
  },
  {
   "cell_type": "markdown",
   "metadata": {},
   "source": [
    "#### 归一化"
   ]
  },
  {
   "cell_type": "code",
   "execution_count": 29,
   "metadata": {},
   "outputs": [
    {
     "name": "stdout",
     "output_type": "stream",
     "text": [
      "ps_car_01_cat int64\nps_car_02_cat int64\nps_car_03_cat int64\nps_car_04_cat int64\nps_car_05_cat int64\nps_car_06_cat int64\nps_car_07_cat int64\nps_car_08_cat int64\nps_car_09_cat int64\nps_car_10_cat int64\nps_car_11 int64\nps_car_11_cat int64\nps_car_12 float64\nps_car_13 float64\nps_car_14 float64\nps_car_15 float64\n"
     ]
    }
   ],
   "source": [
    "for col, _type in preprocess_utils.get_column_type_pair_list(df=data_p1, prefix='ps_car'):\n",
    "    print(col, _type)"
   ]
  },
  {
   "cell_type": "code",
   "execution_count": 30,
   "metadata": {},
   "outputs": [],
   "source": [
    "ps_car_type_float = ['ps_car_12', 'ps_car_13', 'ps_car_14', 'ps_car_15']"
   ]
  },
  {
   "cell_type": "code",
   "execution_count": 31,
   "metadata": {},
   "outputs": [
    {
     "name": "stdout",
     "output_type": "stream",
     "text": [
      "count    1.488028e+06\nmean     3.799528e-01\nstd      5.835091e-02\nmin      1.000000e-01\n25%      3.162278e-01\n50%      3.741657e-01\n75%      4.000000e-01\nmax      1.264911e+00\nName: ps_car_12, dtype: float64\ncount    1.488028e+06\nmean     8.134878e-01\nstd      2.247024e-01\nmin      2.506191e-01\n25%      6.710052e-01\n50%      7.660406e-01\n75%      9.061429e-01\nmax      4.031301e+00\nName: ps_car_13, dtype: float64\n"
     ]
    },
    {
     "name": "stdout",
     "output_type": "stream",
     "text": [
      "count    1.488028e+06\nmean     3.746796e-01\nstd      4.395892e-02\nmin      1.095445e-01\n25%      3.535534e-01\n50%      3.746796e-01\n75%      3.964846e-01\nmax      6.363961e-01\nName: ps_car_14, dtype: float64\ncount    1.488028e+06\nmean     3.067355e+00\nstd      7.299510e-01\nmin      0.000000e+00\n25%      2.828427e+00\n50%      3.316625e+00\n75%      3.605551e+00\nmax      3.741657e+00\nName: ps_car_15, dtype: float64\n"
     ]
    }
   ],
   "source": [
    "for col in ps_car_type_float:\n",
    "    print(data_p1[col].describe())"
   ]
  },
  {
   "cell_type": "code",
   "execution_count": 32,
   "metadata": {},
   "outputs": [
    {
     "name": "stdout",
     "output_type": "stream",
     "text": [
      "col: ps_car_12, mean: -1.2610559221490212e-15, var: 1.0000003360153515\ncol: ps_car_13, mean: 4.3949679306679457e-17, var: 1.000000336015352\ncol: ps_car_14, mean: 1.7903811992572384e-15, var: 1.0000003360153518\ncol: ps_car_15, mean: -3.0856456723138053e-16, var: 1.0000003360153518\n"
     ]
    }
   ],
   "source": [
    "data_p1_scale = data_p1.copy()\n",
    "for col in ps_car_type_float:\n",
    "    data_p1_scale[col] = preprocessing.scale(data_p1_scale[col])\n",
    "    print('col: {0}, mean: {1}, var: {2}'.format(\n",
    "        col, data_p1_scale[col].mean(), data_p1_scale[col].std())\n",
    "    )"
   ]
  },
  {
   "cell_type": "code",
   "execution_count": 33,
   "metadata": {},
   "outputs": [],
   "source": [
    "data_p1 = data_p1_scale"
   ]
  },
  {
   "cell_type": "markdown",
   "metadata": {},
   "source": [
    "#### 保存"
   ]
  },
  {
   "cell_type": "code",
   "execution_count": 3,
   "metadata": {},
   "outputs": [],
   "source": [
    "data_p1_path = config.data.path('data_p1.csv')"
   ]
  },
  {
   "cell_type": "code",
   "execution_count": 35,
   "metadata": {},
   "outputs": [],
   "source": [
    "data_p1.to_csv(data_p1_path, index=False)\n"
   ]
  },
  {
   "cell_type": "code",
   "execution_count": 4,
   "metadata": {},
   "outputs": [],
   "source": [
    "data_p1 = pd.read_csv(data_p1_path)"
   ]
  },
  {
   "cell_type": "markdown",
   "metadata": {},
   "source": [
    "## 处理特征 'calc'"
   ]
  },
  {
   "cell_type": "code",
   "execution_count": 5,
   "metadata": {},
   "outputs": [],
   "source": [
    "data_p2 = data_p1"
   ]
  },
  {
   "cell_type": "markdown",
   "metadata": {},
   "source": [
    "### 处理缺失值"
   ]
  },
  {
   "cell_type": "code",
   "execution_count": 8,
   "metadata": {},
   "outputs": [],
   "source": [
    "show_feature_with_missing_value(data_p2, prefix='ps_calc', placeholder=-1)"
   ]
  },
  {
   "cell_type": "markdown",
   "metadata": {},
   "source": [
    "### 归一化"
   ]
  },
  {
   "cell_type": "code",
   "execution_count": 9,
   "metadata": {},
   "outputs": [
    {
     "name": "stdout",
     "output_type": "stream",
     "text": [
      "ps_calc_01 float64\nps_calc_02 float64\nps_calc_03 float64\nps_calc_04 int64\nps_calc_05 int64\nps_calc_06 int64\nps_calc_07 int64\nps_calc_08 int64\nps_calc_09 int64\nps_calc_10 int64\nps_calc_11 int64\nps_calc_12 int64\nps_calc_13 int64\nps_calc_14 int64\nps_calc_15_bin int64\nps_calc_16_bin int64\nps_calc_17_bin int64\nps_calc_18_bin int64\nps_calc_19_bin int64\nps_calc_20_bin int64\n"
     ]
    }
   ],
   "source": [
    "for col, _type in preprocess_utils.get_column_type_pair_list(df=data_p2, prefix='ps_calc'):\n",
    "    print(col, _type)"
   ]
  },
  {
   "cell_type": "code",
   "execution_count": 10,
   "metadata": {},
   "outputs": [],
   "source": [
    "ps_calc_type_float = ['ps_calc_01', 'ps_calc_02', 'ps_calc_03']"
   ]
  },
  {
   "cell_type": "code",
   "execution_count": 11,
   "metadata": {},
   "outputs": [
    {
     "name": "stdout",
     "output_type": "stream",
     "text": [
      "col: ps_calc_01, mean: -8.932614742005555e-16, var: 1.000000336015352\ncol: ps_calc_02, mean: -3.938448038217371e-16, var: 1.0000003360153515\ncol: ps_calc_03, mean: -4.530770720702927e-16, var: 1.0000003360153522\n"
     ]
    }
   ],
   "source": [
    "data_p2_scale = data_p2.copy()\n",
    "for col in ps_calc_type_float:\n",
    "    data_p2_scale[col] = preprocessing.scale(data_p2_scale[col])\n",
    "    print(\"col: {0}, mean: {1}, var: {2}\".format(\n",
    "        col, data_p2_scale[col].mean(), data_p2_scale[col].std())\n",
    "    )"
   ]
  },
  {
   "cell_type": "code",
   "execution_count": 12,
   "metadata": {},
   "outputs": [
    {
     "name": "stdout",
     "output_type": "stream",
     "text": [
      "col: ps_calc_01, mean: -8.932614742005555e-16, var: 1.000000336015352\ncol: ps_calc_02, mean: -3.938448038217371e-16, var: 1.0000003360153515\ncol: ps_calc_03, mean: -4.530770720702927e-16, var: 1.0000003360153522\n"
     ]
    }
   ],
   "source": [
    "data_p2 = data_p2_scale\n",
    "for col in ps_calc_type_float:\n",
    "    print(\"col: {0}, mean: {1}, var: {2}\".format(\n",
    "        col, data_p2[col].mean(), data_p2[col].std())\n",
    "    )"
   ]
  },
  {
   "cell_type": "markdown",
   "metadata": {},
   "source": [
    "### 保存"
   ]
  },
  {
   "cell_type": "code",
   "execution_count": 13,
   "metadata": {},
   "outputs": [],
   "source": [
    "data_p2_path = config.data.path('data_p2.csv')"
   ]
  },
  {
   "cell_type": "code",
   "execution_count": 14,
   "metadata": {},
   "outputs": [],
   "source": [
    "data_p2.to_csv(data_p2_path, index=False)"
   ]
  },
  {
   "cell_type": "code",
   "execution_count": null,
   "metadata": {},
   "outputs": [],
   "source": [
    "data_p2 = pd.read_csv(data_p2_path)"
   ]
  },
  {
   "cell_type": "markdown",
   "metadata": {},
   "source": [
    "## 处理特征 `reg`"
   ]
  },
  {
   "cell_type": "markdown",
   "metadata": {},
   "source": [
    "#### 处理缺失值"
   ]
  },
  {
   "cell_type": "code",
   "execution_count": 15,
   "metadata": {},
   "outputs": [
    {
     "name": "stdout",
     "output_type": "stream",
     "text": [
      "col: ps_car_03_cat, dtype: int64, missing rate: 0.6909426435524063\ncol: ps_car_05_cat, dtype: int64, missing rate: 0.4481837707354969\n"
     ]
    },
    {
     "name": "stdout",
     "output_type": "stream",
     "text": [
      "col: ps_reg_03, dtype: float64, missing rate: 0.18108261403683265\n"
     ]
    }
   ],
   "source": [
    "show_feature_with_missing_value(data_p2, prefix='ps', placeholder=-1)"
   ]
  },
  {
   "cell_type": "code",
   "execution_count": 16,
   "metadata": {},
   "outputs": [],
   "source": [
    "def fix_feature_reg(df: pd.DataFrame) -> pd.DataFrame:\n",
    "    _df = df.copy()\n",
    "     \n",
    "    # TODO 下面的缺失值较多, 目前先取均值, 以后再改为预测填充\n",
    "    for col in ['ps_reg_03', ]:\n",
    "        mean = df[col][df[col] != -1].mean()\n",
    "        print(df[col].describe())\n",
    "        print(\"col: {0}, mean: {1}\".format(col, mean))\n",
    "        _df[col][_df[col] == -1] = mean\n",
    "\n",
    "    return _df"
   ]
  },
  {
   "cell_type": "code",
   "execution_count": 17,
   "metadata": {},
   "outputs": [
    {
     "name": "stdout",
     "output_type": "stream",
     "text": [
      "count    1.488028e+06\nmean     5.514848e-01\nstd      7.938159e-01\nmin     -1.000000e+00\n25%      5.250000e-01\n50%      7.211103e-01\n75%      1.001561e+00\nmax      4.423517e+00\nName: ps_reg_03, dtype: float64\ncol: ps_reg_03, mean: 0.8945559497971071\n"
     ]
    },
    {
     "name": "stderr",
     "output_type": "stream",
     "text": [
      "/mnt/WORK/-.VirtualEnv.Home/DataScience-python3.5/lib/python3.5/site-packages/ipykernel_launcher.py:9: SettingWithCopyWarning: \nA value is trying to be set on a copy of a slice from a DataFrame\n\nSee the caveats in the documentation: http://pandas.pydata.org/pandas-docs/stable/indexing.html#indexing-view-versus-copy\n  if __name__ == '__main__':\n"
     ]
    }
   ],
   "source": [
    "data_p3 = fix_feature_reg(data_p2) "
   ]
  },
  {
   "cell_type": "markdown",
   "metadata": {},
   "source": [
    "#### 归一化"
   ]
  },
  {
   "cell_type": "code",
   "execution_count": 18,
   "metadata": {},
   "outputs": [
    {
     "name": "stdout",
     "output_type": "stream",
     "text": [
      "ps_reg_01 float64\nps_reg_02 float64\nps_reg_03 float64\n"
     ]
    }
   ],
   "source": [
    "for col, _type in preprocess_utils.get_column_type_pair_list(df=data_p3, prefix='ps_reg'):\n",
    "    print(col, _type)"
   ]
  },
  {
   "cell_type": "code",
   "execution_count": 19,
   "metadata": {},
   "outputs": [],
   "source": [
    "ps_reg_float = ['ps_reg_01', 'ps_reg_02', 'ps_reg_03']"
   ]
  },
  {
   "cell_type": "code",
   "execution_count": 20,
   "metadata": {},
   "outputs": [
    {
     "name": "stdout",
     "output_type": "stream",
     "text": [
      "col: ps_reg_01, mean: -8.148501656504704e-16, var: 1.0000003360153518\ncol: ps_reg_02, mean: -7.032473945992196e-16, var: 1.000000336015352\ncol: ps_reg_03, mean: -3.900844417558951e-16, var: 1.0000003360153522\n"
     ]
    }
   ],
   "source": [
    "data_p3_scale = data_p3.copy()\n",
    "for col in ps_reg_float:\n",
    "    data_p3_scale[col] = preprocessing.scale(data_p3_scale[col])\n",
    "    print(\"col: {0}, mean: {1}, var: {2}\".format(\n",
    "        col, data_p3_scale[col].mean(), data_p3_scale[col].std())\n",
    "    )"
   ]
  },
  {
   "cell_type": "code",
   "execution_count": 21,
   "metadata": {},
   "outputs": [
    {
     "name": "stdout",
     "output_type": "stream",
     "text": [
      "col: ps_reg_01, mean: -8.148501656504704e-16, var: 1.0000003360153518\ncol: ps_reg_02, mean: -7.032473945992196e-16, var: 1.000000336015352\ncol: ps_reg_03, mean: -3.900844417558951e-16, var: 1.0000003360153522\n"
     ]
    }
   ],
   "source": [
    "data_p3 = data_p3_scale\n",
    "for col in ps_reg_float:\n",
    "    print(\"col: {0}, mean: {1}, var: {2}\".format(\n",
    "        col, data_p3[col].mean(), data_p3[col].std())\n",
    "    )"
   ]
  },
  {
   "cell_type": "markdown",
   "metadata": {},
   "source": [
    "#### 保存"
   ]
  },
  {
   "cell_type": "code",
   "execution_count": 3,
   "metadata": {},
   "outputs": [],
   "source": [
    "data_p3_path = config.data.path('data_p3.csv')"
   ]
  },
  {
   "cell_type": "code",
   "execution_count": 23,
   "metadata": {},
   "outputs": [],
   "source": [
    "data_p3.to_csv(data_p3_path, index=False)"
   ]
  },
  {
   "cell_type": "code",
   "execution_count": 4,
   "metadata": {},
   "outputs": [],
   "source": [
    "data_p3 = pd.read_csv(data_p3_path)"
   ]
  },
  {
   "cell_type": "markdown",
   "metadata": {},
   "source": [
    "## 大检查"
   ]
  },
  {
   "cell_type": "code",
   "execution_count": 5,
   "metadata": {},
   "outputs": [],
   "source": [
    "data_processed = data_p3"
   ]
  },
  {
   "cell_type": "code",
   "execution_count": 7,
   "metadata": {},
   "outputs": [
    {
     "name": "stdout",
     "output_type": "stream",
     "text": [
      "col: ps_car_03_cat, dtype: int64, missing rate: 0.6909426435524063\n"
     ]
    },
    {
     "name": "stdout",
     "output_type": "stream",
     "text": [
      "col: ps_car_05_cat, dtype: int64, missing rate: 0.4481837707354969\n"
     ]
    }
   ],
   "source": [
    "preprocess_utils.show_feature_with_missing_value(data_processed, prefix='ps')"
   ]
  },
  {
   "cell_type": "code",
   "execution_count": 8,
   "metadata": {},
   "outputs": [],
   "source": [
    "data_processed_columns = preprocess_utils.get_column_type_pair_list(data_processed, prefix='ps')"
   ]
  },
  {
   "cell_type": "code",
   "execution_count": 9,
   "metadata": {},
   "outputs": [
    {
     "name": "stdout",
     "output_type": "stream",
     "text": [
      "ps_calc_01 float64\nps_calc_02 float64\nps_calc_03 float64\nps_calc_04 int64\nps_calc_05 int64\nps_calc_06 int64\nps_calc_07 int64\nps_calc_08 int64\nps_calc_09 int64\nps_calc_10 int64\nps_calc_11 int64\nps_calc_12 int64\nps_calc_13 int64\nps_calc_14 int64\nps_calc_15_bin int64\nps_calc_16_bin int64\nps_calc_17_bin int64\nps_calc_18_bin int64\nps_calc_19_bin int64\nps_calc_20_bin int64\nps_car_01_cat int64\nps_car_02_cat int64\nps_car_03_cat int64\nps_car_04_cat int64\nps_car_05_cat int64\nps_car_06_cat int64\nps_car_07_cat int64\nps_car_08_cat int64\nps_car_09_cat int64\nps_car_10_cat int64\nps_car_11 int64\nps_car_11_cat int64\nps_car_12 float64\nps_car_13 float64\nps_car_14 float64\nps_car_15 float64\nps_ind_01 int64\nps_ind_02_cat int64\nps_ind_03 int64\nps_ind_04_cat int64\nps_ind_05_cat int64\nps_ind_06_bin int64\nps_ind_07_bin int64\nps_ind_08_bin int64\nps_ind_09_bin int64\nps_ind_10_bin int64\nps_ind_11_bin int64\nps_ind_12_bin int64\nps_ind_13_bin int64\nps_ind_14 int64\nps_ind_15 int64\nps_ind_16_bin int64\nps_ind_17_bin int64\nps_ind_18_bin int64\nps_reg_01 float64\nps_reg_02 float64\nps_reg_03 float64\n"
     ]
    }
   ],
   "source": [
    "for col, _type in data_processed_columns:\n",
    "    print(col, _type)"
   ]
  },
  {
   "cell_type": "code",
   "execution_count": 10,
   "metadata": {},
   "outputs": [
    {
     "name": "stdout",
     "output_type": "stream",
     "text": [
      "col: ps_calc_01, mean: -8.958018076850356e-16, var: 1.000000336015352\ncol: ps_calc_02, mean: -4.3841762884218467e-16, var: 1.0000003360153515\ncol: ps_calc_03, mean: -4.271866808055365e-16, var: 1.000000336015352\ncol: ps_car_12, mean: -1.2507417861969974e-15, var: 1.0000003360153515\ncol: ps_car_13, mean: 4.534399768537898e-17, var: 1.000000336015352\ncol: ps_car_14, mean: 1.7832377050978738e-15, var: 1.0000003360153518\ncol: ps_car_15, mean: -3.0397573174531806e-16, var: 1.0000003360153515\ncol: ps_reg_01, mean: -8.429323108050316e-16, var: 1.0000003360153518\ncol: ps_reg_02, mean: -6.91715617597304e-16, var: 1.000000336015352\n"
     ]
    },
    {
     "name": "stdout",
     "output_type": "stream",
     "text": [
      "col: ps_reg_03, mean: -3.9275847700271606e-16, var: 1.0000003360153522\n"
     ]
    }
   ],
   "source": [
    "data_processed_columns_float = list(filter(lambda x: 'float' in x[1], data_processed_columns))\n",
    "\n",
    "for col, _type in data_processed_columns_float:\n",
    "    print(\"col: {0}, mean: {1}, var: {2}\".format(\n",
    "        col, data_processed[col].mean(), data_processed[col].std())\n",
    "    )\n"
   ]
  },
  {
   "cell_type": "code",
   "execution_count": 11,
   "metadata": {},
   "outputs": [],
   "source": [
    "data_processed_columns_int = list(filter(lambda x: 'float' not in x[1], data_processed_columns))"
   ]
  },
  {
   "cell_type": "code",
   "execution_count": 12,
   "metadata": {},
   "outputs": [],
   "source": [
    "data_processed_columns_int_name = [x[0] for x in data_processed_columns_int]"
   ]
  },
  {
   "cell_type": "markdown",
   "metadata": {},
   "source": [
    "## 整数特征独热编码"
   ]
  },
  {
   "cell_type": "code",
   "execution_count": 13,
   "metadata": {},
   "outputs": [],
   "source": [
    "# category 的列全部独热编码\n",
    "\n",
    "data_catergory_onehot = pd.get_dummies(\n",
    "    data=data_processed,\n",
    "    columns=data_processed_columns_int_name\n",
    ")"
   ]
  },
  {
   "cell_type": "markdown",
   "metadata": {},
   "source": [
    "#### 保存"
   ]
  },
  {
   "cell_type": "code",
   "execution_count": 32,
   "metadata": {},
   "outputs": [],
   "source": [
    "data_catergory_onehot_path = config.data.path('data_catergory_onehot.csv')"
   ]
  },
  {
   "cell_type": "code",
   "execution_count": 33,
   "metadata": {},
   "outputs": [],
   "source": [
    "data_catergory_onehot.to_csv(data_catergory_onehot_path, index=False)"
   ]
  },
  {
   "cell_type": "code",
   "execution_count": 3,
   "metadata": {},
   "outputs": [],
   "source": [
    "data_catergory_onehot = pd.read_csv(data_catergory_onehot_path)"
   ]
  },
  {
   "cell_type": "markdown",
   "metadata": {},
   "source": [
    "## Indexing"
   ]
  },
  {
   "cell_type": "code",
   "execution_count": 14,
   "metadata": {},
   "outputs": [],
   "source": [
    "data_onehot_feature = preprocess_utils.get_column_type_pair_list(data_catergory_onehot, prefix='ps')"
   ]
  },
  {
   "cell_type": "code",
   "execution_count": 15,
   "metadata": {},
   "outputs": [],
   "source": [
    "data_onehot_feature_type_int = list(filter(lambda x: 'float' not in x[1], data_onehot_feature))"
   ]
  },
  {
   "cell_type": "code",
   "execution_count": 16,
   "metadata": {},
   "outputs": [],
   "source": [
    "data_onehot_feature_type_int_name = [x[0] for x in data_onehot_feature_type_int]"
   ]
  },
  {
   "cell_type": "code",
   "execution_count": 6,
   "metadata": {},
   "outputs": [
    {
     "name": "stdout",
     "output_type": "stream",
     "text": [
      "ps_calc_04_0 int64\nps_calc_04_1 int64\nps_calc_04_2 int64\nps_calc_04_3 int64\nps_calc_04_4 int64\nps_calc_04_5 int64\nps_calc_05_0 int64\nps_calc_05_1 int64\nps_calc_05_2 int64\nps_calc_05_3 int64\nps_calc_05_4 int64\nps_calc_05_5 int64\nps_calc_05_6 int64\nps_calc_06_0 int64\nps_calc_06_1 int64\nps_calc_06_2 int64\nps_calc_06_3 int64\nps_calc_06_4 int64\nps_calc_06_5 int64\nps_calc_06_6 int64\nps_calc_06_7 int64\nps_calc_06_8 int64\nps_calc_06_9 int64\nps_calc_06_10 int64\nps_calc_07_0 int64\nps_calc_07_1 int64\nps_calc_07_2 int64\nps_calc_07_3 int64\nps_calc_07_4 int64\nps_calc_07_5 int64\nps_calc_07_6 int64\nps_calc_07_7 int64\nps_calc_07_8 int64\nps_calc_07_9 int64\nps_calc_08_1 int64\nps_calc_08_2 int64\nps_calc_08_3 int64\nps_calc_08_4 int64\nps_calc_08_5 int64\nps_calc_08_6 int64\nps_calc_08_7 int64\nps_calc_08_8 int64\nps_calc_08_9 int64\nps_calc_08_10 int64\nps_calc_08_11 int64\nps_calc_08_12 int64\nps_calc_09_0 int64\nps_calc_09_1 int64\nps_calc_09_2 int64\nps_calc_09_3 int64\nps_calc_09_4 int64\nps_calc_09_5 int64\nps_calc_09_6 int64\nps_calc_09_7 int64\nps_calc_10_0 int64\nps_calc_10_1 int64\nps_calc_10_2 int64\nps_calc_10_3 int64\nps_calc_10_4 int64\nps_calc_10_5 int64\nps_calc_10_6 int64\nps_calc_10_7 int64\nps_calc_10_8 int64\nps_calc_10_9 int64\nps_calc_10_10 int64\nps_calc_10_11 int64\nps_calc_10_12 int64\nps_calc_10_13 int64\nps_calc_10_14 int64\nps_calc_10_15 int64\nps_calc_10_16 int64\nps_calc_10_17 int64\nps_calc_10_18 int64\nps_calc_10_19 int64\nps_calc_10_20 int64\nps_calc_10_21 int64\nps_calc_10_22 int64\nps_calc_10_23 int64\nps_calc_10_24 int64\nps_calc_10_25 int64\nps_calc_11_0 int64\nps_calc_11_1 int64\nps_calc_11_2 int64\nps_calc_11_3 int64\nps_calc_11_4 int64\nps_calc_11_5 int64\nps_calc_11_6 int64\nps_calc_11_7 int64\nps_calc_11_8 int64\nps_calc_11_9 int64\nps_calc_11_10 int64\nps_calc_11_11 int64\nps_calc_11_12 int64\nps_calc_11_13 int64\nps_calc_11_14 int64\nps_calc_11_15 int64\nps_calc_11_16 int64\nps_calc_11_17 int64\nps_calc_11_18 int64\nps_calc_11_19 int64\nps_calc_11_20 int64\nps_calc_12_0 int64\nps_calc_12_1 int64\nps_calc_12_2 int64\nps_calc_12_3 int64\nps_calc_12_4 int64\nps_calc_12_5 int64\nps_calc_12_6 int64\nps_calc_12_7 int64\nps_calc_12_8 int64\nps_calc_12_9 int64\nps_calc_12_10 int64\nps_calc_12_11 int64\nps_calc_13_0 int64\nps_calc_13_1 int64\nps_calc_13_2 int64\nps_calc_13_3 int64\nps_calc_13_4 int64\nps_calc_13_5 int64\nps_calc_13_6 int64\nps_calc_13_7 int64\nps_calc_13_8 int64\nps_calc_13_9 int64\nps_calc_13_10 int64\nps_calc_13_11 int64\nps_calc_13_12 int64\nps_calc_13_13 int64\nps_calc_13_14 int64\nps_calc_13_15 int64\nps_calc_14_0 int64\nps_calc_14_1 int64\nps_calc_14_2 int64\nps_calc_14_3 int64\nps_calc_14_4 int64\nps_calc_14_5 int64\nps_calc_14_6 int64\nps_calc_14_7 int64\nps_calc_14_8 int64\nps_calc_14_9 int64\nps_calc_14_10 int64\nps_calc_14_11 int64\nps_calc_14_12 int64\nps_calc_14_13 int64\nps_calc_14_14 int64\nps_calc_14_15 int64\nps_calc_14_16 int64\nps_calc_14_17 int64\nps_calc_14_18 int64\nps_calc_14_19 int64\nps_calc_14_20 int64\nps_calc_14_21 int64\nps_calc_14_22 int64\nps_calc_14_23 int64\nps_calc_14_28 int64\nps_calc_15_bin_0 int64\nps_calc_15_bin_1 int64\nps_calc_16_bin_0 int64\nps_calc_16_bin_1 int64\nps_calc_17_bin_0 int64\nps_calc_17_bin_1 int64\nps_calc_18_bin_0 int64\nps_calc_18_bin_1 int64\nps_calc_19_bin_0 int64\nps_calc_19_bin_1 int64\nps_calc_20_bin_0 int64\nps_calc_20_bin_1 int64\nps_car_01_cat_0 int64\nps_car_01_cat_1 int64\nps_car_01_cat_2 int64\nps_car_01_cat_3 int64\nps_car_01_cat_4 int64\nps_car_01_cat_5 int64\nps_car_01_cat_6 int64\nps_car_01_cat_7 int64\nps_car_01_cat_8 int64\nps_car_01_cat_9 int64\nps_car_01_cat_10 int64\nps_car_01_cat_11 int64\nps_car_02_cat_0 int64\nps_car_02_cat_1 int64\nps_car_03_cat_-1 int64\nps_car_03_cat_0 int64\nps_car_03_cat_1 int64\nps_car_04_cat_0 int64\nps_car_04_cat_1 int64\nps_car_04_cat_2 int64\nps_car_04_cat_3 int64\nps_car_04_cat_4 int64\nps_car_04_cat_5 int64\nps_car_04_cat_6 int64\nps_car_04_cat_7 int64\nps_car_04_cat_8 int64\nps_car_04_cat_9 int64\nps_car_05_cat_-1 int64\nps_car_05_cat_0 int64\nps_car_05_cat_1 int64\nps_car_06_cat_0 int64\nps_car_06_cat_1 int64\nps_car_06_cat_2 int64\nps_car_06_cat_3 int64\nps_car_06_cat_4 int64\nps_car_06_cat_5 int64\nps_car_06_cat_6 int64\nps_car_06_cat_7 int64\nps_car_06_cat_8 int64\nps_car_06_cat_9 int64\nps_car_06_cat_10 int64\nps_car_06_cat_11 int64\nps_car_06_cat_12 int64\nps_car_06_cat_13 int64\nps_car_06_cat_14 int64\nps_car_06_cat_15 int64\nps_car_06_cat_16 int64\nps_car_06_cat_17 int64\nps_car_07_cat_0 int64\nps_car_07_cat_1 int64\nps_car_08_cat_0 int64\nps_car_08_cat_1 int64\nps_car_09_cat_0 int64\nps_car_09_cat_1 int64\nps_car_09_cat_2 int64\nps_car_09_cat_3 int64\nps_car_09_cat_4 int64\nps_car_10_cat_0 int64\nps_car_10_cat_1 int64\nps_car_10_cat_2 int64\nps_car_11_0 int64\nps_car_11_1 int64\nps_car_11_2 int64\nps_car_11_3 int64\nps_car_11_cat_1 int64\nps_car_11_cat_2 int64\nps_car_11_cat_3 int64\nps_car_11_cat_4 int64\nps_car_11_cat_5 int64\nps_car_11_cat_6 int64\nps_car_11_cat_7 int64\nps_car_11_cat_8 int64\nps_car_11_cat_9 int64\nps_car_11_cat_10 int64\nps_car_11_cat_11 int64\nps_car_11_cat_12 int64\nps_car_11_cat_13 int64\nps_car_11_cat_14 int64\nps_car_11_cat_15 int64\nps_car_11_cat_16 int64\nps_car_11_cat_17 int64\nps_car_11_cat_18 int64\nps_car_11_cat_19 int64\nps_car_11_cat_20 int64\nps_car_11_cat_21 int64\nps_car_11_cat_22 int64\nps_car_11_cat_23 int64\nps_car_11_cat_24 int64\nps_car_11_cat_25 int64\nps_car_11_cat_26 int64\nps_car_11_cat_27 int64\nps_car_11_cat_28 int64\nps_car_11_cat_29 int64\nps_car_11_cat_30 int64\nps_car_11_cat_31 int64\nps_car_11_cat_32 int64\nps_car_11_cat_33 int64\nps_car_11_cat_34 int64\nps_car_11_cat_35 int64\nps_car_11_cat_36 int64\nps_car_11_cat_37 int64\nps_car_11_cat_38 int64\nps_car_11_cat_39 int64\nps_car_11_cat_40 int64\nps_car_11_cat_41 int64\nps_car_11_cat_42 int64\nps_car_11_cat_43 int64\nps_car_11_cat_44 int64\nps_car_11_cat_45 int64\nps_car_11_cat_46 int64\nps_car_11_cat_47 int64\nps_car_11_cat_48 int64\nps_car_11_cat_49 int64\nps_car_11_cat_50 int64\nps_car_11_cat_51 int64\nps_car_11_cat_52 int64\nps_car_11_cat_53 int64\nps_car_11_cat_54 int64\nps_car_11_cat_55 int64\nps_car_11_cat_56 int64\nps_car_11_cat_57 int64\nps_car_11_cat_58 int64\nps_car_11_cat_59 int64\nps_car_11_cat_60 int64\nps_car_11_cat_61 int64\nps_car_11_cat_62 int64\nps_car_11_cat_63 int64\nps_car_11_cat_64 int64\nps_car_11_cat_65 int64\nps_car_11_cat_66 int64\nps_car_11_cat_67 int64\nps_car_11_cat_68 int64\nps_car_11_cat_69 int64\nps_car_11_cat_70 int64\nps_car_11_cat_71 int64\nps_car_11_cat_72 int64\nps_car_11_cat_73 int64\nps_car_11_cat_74 int64\nps_car_11_cat_75 int64\nps_car_11_cat_76 int64\nps_car_11_cat_77 int64\nps_car_11_cat_78 int64\nps_car_11_cat_79 int64\nps_car_11_cat_80 int64\nps_car_11_cat_81 int64\nps_car_11_cat_82 int64\nps_car_11_cat_83 int64\nps_car_11_cat_84 int64\nps_car_11_cat_85 int64\nps_car_11_cat_86 int64\nps_car_11_cat_87 int64\nps_car_11_cat_88 int64\nps_car_11_cat_89 int64\nps_car_11_cat_90 int64\nps_car_11_cat_91 int64\nps_car_11_cat_92 int64\nps_car_11_cat_93 int64\nps_car_11_cat_94 int64\nps_car_11_cat_95 int64\nps_car_11_cat_96 int64\nps_car_11_cat_97 int64\nps_car_11_cat_98 int64\nps_car_11_cat_99 int64\nps_car_11_cat_100 int64\nps_car_11_cat_101 int64\nps_car_11_cat_102 int64\nps_car_11_cat_103 int64\nps_car_11_cat_104 int64\nps_ind_01_0 int64\nps_ind_01_1 int64\nps_ind_01_2 int64\nps_ind_01_3 int64\nps_ind_01_4 int64\nps_ind_01_5 int64\nps_ind_01_6 int64\nps_ind_01_7 int64\nps_ind_02_cat_1 int64\nps_ind_02_cat_2 int64\nps_ind_02_cat_3 int64\nps_ind_02_cat_4 int64\nps_ind_03_0 int64\nps_ind_03_1 int64\nps_ind_03_2 int64\nps_ind_03_3 int64\nps_ind_03_4 int64\nps_ind_03_5 int64\nps_ind_03_6 int64\nps_ind_03_7 int64\nps_ind_03_8 int64\nps_ind_03_9 int64\nps_ind_03_10 int64\nps_ind_03_11 int64\nps_ind_04_cat_0 int64\nps_ind_04_cat_1 int64\nps_ind_05_cat_0 int64\nps_ind_05_cat_1 int64\nps_ind_05_cat_2 int64\nps_ind_05_cat_3 int64\nps_ind_05_cat_4 int64\nps_ind_05_cat_5 int64\nps_ind_05_cat_6 int64\nps_ind_06_bin_0 int64\nps_ind_06_bin_1 int64\nps_ind_07_bin_0 int64\nps_ind_07_bin_1 int64\nps_ind_08_bin_0 int64\nps_ind_08_bin_1 int64\nps_ind_09_bin_0 int64\nps_ind_09_bin_1 int64\nps_ind_10_bin_0 int64\nps_ind_10_bin_1 int64\nps_ind_11_bin_0 int64\nps_ind_11_bin_1 int64\nps_ind_12_bin_0 int64\nps_ind_12_bin_1 int64\nps_ind_13_bin_0 int64\nps_ind_13_bin_1 int64\nps_ind_14_0 int64\nps_ind_14_1 int64\nps_ind_14_2 int64\nps_ind_14_3 int64\nps_ind_14_4 int64\nps_ind_15_0 int64\nps_ind_15_1 int64\nps_ind_15_2 int64\nps_ind_15_3 int64\nps_ind_15_4 int64\nps_ind_15_5 int64\nps_ind_15_6 int64\nps_ind_15_7 int64\nps_ind_15_8 int64\nps_ind_15_9 int64\nps_ind_15_10 int64\nps_ind_15_11 int64\nps_ind_15_12 int64\nps_ind_15_13 int64\nps_ind_16_bin_0 int64\nps_ind_16_bin_1 int64\nps_ind_17_bin_0 int64\nps_ind_17_bin_1 int64\nps_ind_18_bin_0 int64\nps_ind_18_bin_1 int64\n"
     ]
    }
   ],
   "source": [
    "for col, _type in data_onehot_feature_type_int:\n",
    "    print(col, _type)"
   ]
  },
  {
   "cell_type": "code",
   "execution_count": 17,
   "metadata": {},
   "outputs": [
    {
     "name": "stdout",
     "output_type": "stream",
     "text": [
      "ps_calc_04_0 1 0 2 [0, 1]\nps_calc_04_1 1 0 2 [0, 1]\nps_calc_04_2 1 0 2 [0, 1]\nps_calc_04_3 1 0 2 [0, 1]\n"
     ]
    },
    {
     "name": "stdout",
     "output_type": "stream",
     "text": [
      "ps_calc_04_4 1 0 2 [0, 1]\nps_calc_04_5 1 0 2 [0, 1]\nps_calc_05_0 1 0 2 [0, 1]\nps_calc_05_1 1 0 2 [0, 1]\nps_calc_05_2 1 0 2 [0, 1]\n"
     ]
    },
    {
     "name": "stdout",
     "output_type": "stream",
     "text": [
      "ps_calc_05_3 1 0 2 [0, 1]\nps_calc_05_4 1 0 2 [0, 1]\nps_calc_05_5 1 0 2 [0, 1]\nps_calc_05_6 1 0 2 [0, 1]\nps_calc_06_0 1 0 2 [0, 1]\n"
     ]
    },
    {
     "name": "stdout",
     "output_type": "stream",
     "text": [
      "ps_calc_06_1 1 0 2 [0, 1]\nps_calc_06_2 1 0 2 [0, 1]\nps_calc_06_3 1 0 2 [0, 1]\nps_calc_06_4 1 0 2 [0, 1]\nps_calc_06_5 1 0 2 [0, 1]\n"
     ]
    },
    {
     "name": "stdout",
     "output_type": "stream",
     "text": [
      "ps_calc_06_6 1 0 2 [0, 1]\nps_calc_06_7 1 0 2 [0, 1]\nps_calc_06_8 1 0 2 [0, 1]\nps_calc_06_9 1 0 2 [0, 1]\nps_calc_06_10 1 0 2 [0, 1]\n"
     ]
    },
    {
     "name": "stdout",
     "output_type": "stream",
     "text": [
      "ps_calc_07_0 1 0 2 [0, 1]\nps_calc_07_1 1 0 2 [0, 1]\nps_calc_07_2 1 0 2 [0, 1]\nps_calc_07_3 1 0 2 [0, 1]\nps_calc_07_4 1 0 2 [0, 1]\n"
     ]
    },
    {
     "name": "stdout",
     "output_type": "stream",
     "text": [
      "ps_calc_07_5 1 0 2 [0, 1]\nps_calc_07_6 1 0 2 [0, 1]\nps_calc_07_7 1 0 2 [0, 1]\nps_calc_07_8 1 0 2 [0, 1]\nps_calc_07_9 1 0 2 [0, 1]\nps_calc_08_1 1 0 2 [0, 1]\n"
     ]
    },
    {
     "name": "stdout",
     "output_type": "stream",
     "text": [
      "ps_calc_08_2 1 0 2 [0, 1]\nps_calc_08_3 1 0 2 [0, 1]\nps_calc_08_4 1 0 2 [0, 1]\nps_calc_08_5 1 0 2 [0, 1]\nps_calc_08_6 1 0 2 [0, 1]\nps_calc_08_7 1 0 2 [0, 1]\n"
     ]
    },
    {
     "name": "stdout",
     "output_type": "stream",
     "text": [
      "ps_calc_08_8 1 0 2 [0, 1]\nps_calc_08_9 1 0 2 [0, 1]\nps_calc_08_10 1 0 2 [0, 1]\nps_calc_08_11 1 0 2 [0, 1]\nps_calc_08_12 1 0 2 [0, 1]\n"
     ]
    },
    {
     "name": "stdout",
     "output_type": "stream",
     "text": [
      "ps_calc_09_0 1 0 2 [0, 1]\nps_calc_09_1 1 0 2 [0, 1]\nps_calc_09_2 1 0 2 [0, 1]\nps_calc_09_3 1 0 2 [0, 1]\nps_calc_09_4 1 0 2 [0, 1]\n"
     ]
    },
    {
     "name": "stdout",
     "output_type": "stream",
     "text": [
      "ps_calc_09_5 1 0 2 [0, 1]\nps_calc_09_6 1 0 2 [0, 1]\nps_calc_09_7 1 0 2 [0, 1]\nps_calc_10_0 1 0 2 [0, 1]\nps_calc_10_1 1 0 2 [0, 1]\nps_calc_10_2 1 0 2 [0, 1]\n"
     ]
    },
    {
     "name": "stdout",
     "output_type": "stream",
     "text": [
      "ps_calc_10_3 1 0 2 [0, 1]\nps_calc_10_4 1 0 2 [0, 1]\nps_calc_10_5 1 0 2 [0, 1]\nps_calc_10_6 1 0 2 [0, 1]\nps_calc_10_7 1 0 2 [0, 1]\n"
     ]
    },
    {
     "name": "stdout",
     "output_type": "stream",
     "text": [
      "ps_calc_10_8 1 0 2 [0, 1]\nps_calc_10_9 1 0 2 [0, 1]\nps_calc_10_10 1 0 2 [0, 1]\nps_calc_10_11 1 0 2 [0, 1]\nps_calc_10_12 1 0 2 [0, 1]\n"
     ]
    },
    {
     "name": "stdout",
     "output_type": "stream",
     "text": [
      "ps_calc_10_13 1 0 2 [0, 1]\nps_calc_10_14 1 0 2 [0, 1]\nps_calc_10_15 1 0 2 [0, 1]\nps_calc_10_16 1 0 2 [0, 1]\nps_calc_10_17 1 0 2 [0, 1]\nps_calc_10_18 1 0 2 [0, 1]\n"
     ]
    },
    {
     "name": "stdout",
     "output_type": "stream",
     "text": [
      "ps_calc_10_19 1 0 2 [0, 1]\nps_calc_10_20 1 0 2 [0, 1]\nps_calc_10_21 1 0 2 [0, 1]\nps_calc_10_22 1 0 2 [0, 1]\nps_calc_10_23 1 0 2 [0, 1]\n"
     ]
    },
    {
     "name": "stdout",
     "output_type": "stream",
     "text": [
      "ps_calc_10_24 1 0 2 [0, 1]\nps_calc_10_25 1 0 2 [0, 1]\nps_calc_11_0 1 0 2 [0, 1]\nps_calc_11_1 1 0 2 [0, 1]\nps_calc_11_2 1 0 2 [0, 1]\n"
     ]
    },
    {
     "name": "stdout",
     "output_type": "stream",
     "text": [
      "ps_calc_11_3 1 0 2 [0, 1]\nps_calc_11_4 1 0 2 [0, 1]\nps_calc_11_5 1 0 2 [0, 1]\nps_calc_11_6 1 0 2 [0, 1]\nps_calc_11_7 1 0 2 [0, 1]\n"
     ]
    },
    {
     "name": "stdout",
     "output_type": "stream",
     "text": [
      "ps_calc_11_8 1 0 2 [0, 1]\nps_calc_11_9 1 0 2 [0, 1]\nps_calc_11_10 1 0 2 [0, 1]\nps_calc_11_11 1 0 2 [0, 1]\nps_calc_11_12 1 0 2 [0, 1]\n"
     ]
    },
    {
     "name": "stdout",
     "output_type": "stream",
     "text": [
      "ps_calc_11_13 1 0 2 [0, 1]\nps_calc_11_14 1 0 2 [0, 1]\nps_calc_11_15 1 0 2 [0, 1]\nps_calc_11_16 1 0 2 [0, 1]\nps_calc_11_17 1 0 2 [0, 1]\n"
     ]
    },
    {
     "name": "stdout",
     "output_type": "stream",
     "text": [
      "ps_calc_11_18 1 0 2 [0, 1]\nps_calc_11_19 1 0 2 [0, 1]\nps_calc_11_20 1 0 2 [0, 1]\nps_calc_12_0 1 0 2 [0, 1]\nps_calc_12_1 1 0 2 [0, 1]\n"
     ]
    },
    {
     "name": "stdout",
     "output_type": "stream",
     "text": [
      "ps_calc_12_2 1 0 2 [0, 1]\nps_calc_12_3 1 0 2 [0, 1]\nps_calc_12_4 1 0 2 [0, 1]\nps_calc_12_5 1 0 2 [0, 1]\nps_calc_12_6 1 0 2 [0, 1]\n"
     ]
    },
    {
     "name": "stdout",
     "output_type": "stream",
     "text": [
      "ps_calc_12_7 1 0 2 [0, 1]\nps_calc_12_8 1 0 2 [0, 1]\nps_calc_12_9 1 0 2 [0, 1]\nps_calc_12_10 1 0 2 [0, 1]\nps_calc_12_11 1 0 2 [0, 1]\n"
     ]
    },
    {
     "name": "stdout",
     "output_type": "stream",
     "text": [
      "ps_calc_13_0 1 0 2 [0, 1]\nps_calc_13_1 1 0 2 [0, 1]\nps_calc_13_2 1 0 2 [0, 1]\nps_calc_13_3 1 0 2 [0, 1]\nps_calc_13_4 1 0 2 [0, 1]\n"
     ]
    },
    {
     "name": "stdout",
     "output_type": "stream",
     "text": [
      "ps_calc_13_5 1 0 2 [0, 1]\nps_calc_13_6 1 0 2 [0, 1]\nps_calc_13_7 1 0 2 [0, 1]\nps_calc_13_8 1 0 2 [0, 1]\nps_calc_13_9 1 0 2 [0, 1]\n"
     ]
    },
    {
     "name": "stdout",
     "output_type": "stream",
     "text": [
      "ps_calc_13_10 1 0 2 [0, 1]\nps_calc_13_11 1 0 2 [0, 1]\nps_calc_13_12 1 0 2 [0, 1]\nps_calc_13_13 1 0 2 [0, 1]\nps_calc_13_14 1 0 2 [0, 1]\n"
     ]
    },
    {
     "name": "stdout",
     "output_type": "stream",
     "text": [
      "ps_calc_13_15 1 0 2 [0, 1]\n"
     ]
    },
    {
     "name": "stdout",
     "output_type": "stream",
     "text": [
      "ps_calc_14_0 1 0 2 [0, 1]\nps_calc_14_1 1 0 2 [0, 1]\n"
     ]
    },
    {
     "name": "stdout",
     "output_type": "stream",
     "text": [
      "ps_calc_14_2 1 0 2 [0, 1]\nps_calc_14_3 1 0 2 [0, 1]\n"
     ]
    },
    {
     "name": "stdout",
     "output_type": "stream",
     "text": [
      "ps_calc_14_4 1 0 2 [0, 1]\nps_calc_14_5 1 0 2 [0, 1]\n"
     ]
    },
    {
     "name": "stdout",
     "output_type": "stream",
     "text": [
      "ps_calc_14_6 1 0 2 [0, 1]\nps_calc_14_7 1 0 2 [0, 1]\n"
     ]
    },
    {
     "name": "stdout",
     "output_type": "stream",
     "text": [
      "ps_calc_14_8 1 0 2 [0, 1]\nps_calc_14_9 1 0 2 [0, 1]\n"
     ]
    },
    {
     "name": "stdout",
     "output_type": "stream",
     "text": [
      "ps_calc_14_10 1 0 2 [0, 1]\nps_calc_14_11 1 0 2 [0, 1]\n"
     ]
    },
    {
     "name": "stdout",
     "output_type": "stream",
     "text": [
      "ps_calc_14_12 1 0 2 [0, 1]\nps_calc_14_13 1 0 2 [0, 1]\n"
     ]
    },
    {
     "name": "stdout",
     "output_type": "stream",
     "text": [
      "ps_calc_14_14 1 0 2 [0, 1]\nps_calc_14_15 1 0 2 [0, 1]\n"
     ]
    },
    {
     "name": "stdout",
     "output_type": "stream",
     "text": [
      "ps_calc_14_16 1 0 2 [0, 1]\nps_calc_14_17 1 0 2 [0, 1]\n"
     ]
    },
    {
     "name": "stdout",
     "output_type": "stream",
     "text": [
      "ps_calc_14_18 1 0 2 [0, 1]\nps_calc_14_19 1 0 2 [0, 1]\n"
     ]
    },
    {
     "name": "stdout",
     "output_type": "stream",
     "text": [
      "ps_calc_14_20 1 0 2 [0, 1]\nps_calc_14_21 1 0 2 [0, 1]\n"
     ]
    },
    {
     "name": "stdout",
     "output_type": "stream",
     "text": [
      "ps_calc_14_22 1 0 2 [0, 1]\nps_calc_14_23 1 0 2 [0, 1]\n"
     ]
    },
    {
     "name": "stdout",
     "output_type": "stream",
     "text": [
      "ps_calc_14_28 1 0 2 [0, 1]\nps_calc_15_bin_0 1 0 2 [0, 1]\n"
     ]
    },
    {
     "name": "stdout",
     "output_type": "stream",
     "text": [
      "ps_calc_15_bin_1 1 0 2 [0, 1]\nps_calc_16_bin_0 1 0 2 [0, 1]\n"
     ]
    },
    {
     "name": "stdout",
     "output_type": "stream",
     "text": [
      "ps_calc_16_bin_1 1 0 2 [0, 1]\nps_calc_17_bin_0 1 0 2 [0, 1]\n"
     ]
    },
    {
     "name": "stdout",
     "output_type": "stream",
     "text": [
      "ps_calc_17_bin_1 1 0 2 [0, 1]\nps_calc_18_bin_0 1 0 2 [0, 1]\n"
     ]
    },
    {
     "name": "stdout",
     "output_type": "stream",
     "text": [
      "ps_calc_18_bin_1 1 0 2 [0, 1]\nps_calc_19_bin_0 1 0 2 [0, 1]\n"
     ]
    },
    {
     "name": "stdout",
     "output_type": "stream",
     "text": [
      "ps_calc_19_bin_1 1 0 2 [0, 1]\nps_calc_20_bin_0 1 0 2 [0, 1]\n"
     ]
    },
    {
     "name": "stdout",
     "output_type": "stream",
     "text": [
      "ps_calc_20_bin_1 1 0 2 [0, 1]\nps_car_01_cat_0 1 0 2 [0, 1]\n"
     ]
    },
    {
     "name": "stdout",
     "output_type": "stream",
     "text": [
      "ps_car_01_cat_1 1 0 2 [0, 1]\nps_car_01_cat_2 1 0 2 [0, 1]\n"
     ]
    },
    {
     "name": "stdout",
     "output_type": "stream",
     "text": [
      "ps_car_01_cat_3 1 0 2 [0, 1]\nps_car_01_cat_4 1 0 2 [0, 1]\n"
     ]
    },
    {
     "name": "stdout",
     "output_type": "stream",
     "text": [
      "ps_car_01_cat_5 1 0 2 [0, 1]\nps_car_01_cat_6 1 0 2 [0, 1]\n"
     ]
    },
    {
     "name": "stdout",
     "output_type": "stream",
     "text": [
      "ps_car_01_cat_7 1 0 2 [0, 1]\nps_car_01_cat_8 1 0 2 [0, 1]\n"
     ]
    },
    {
     "name": "stdout",
     "output_type": "stream",
     "text": [
      "ps_car_01_cat_9 1 0 2 [0, 1]\nps_car_01_cat_10 1 0 2 [0, 1]\n"
     ]
    },
    {
     "name": "stdout",
     "output_type": "stream",
     "text": [
      "ps_car_01_cat_11 1 0 2 [0, 1]\nps_car_02_cat_0 1 0 2 [0, 1]\n"
     ]
    },
    {
     "name": "stdout",
     "output_type": "stream",
     "text": [
      "ps_car_02_cat_1 1 0 2 [0, 1]\nps_car_03_cat_-1 1 0 2 [0, 1]\n"
     ]
    },
    {
     "name": "stdout",
     "output_type": "stream",
     "text": [
      "ps_car_03_cat_0 1 0 2 [0, 1]\nps_car_03_cat_1 1 0 2 [0, 1]\n"
     ]
    },
    {
     "name": "stdout",
     "output_type": "stream",
     "text": [
      "ps_car_04_cat_0 1 0 2 [0, 1]\nps_car_04_cat_1 1 0 2 [0, 1]\n"
     ]
    },
    {
     "name": "stdout",
     "output_type": "stream",
     "text": [
      "ps_car_04_cat_2 1 0 2 [0, 1]\nps_car_04_cat_3 1 0 2 [0, 1]\n"
     ]
    },
    {
     "name": "stdout",
     "output_type": "stream",
     "text": [
      "ps_car_04_cat_4 1 0 2 [0, 1]\nps_car_04_cat_5 1 0 2 [0, 1]\n"
     ]
    },
    {
     "name": "stdout",
     "output_type": "stream",
     "text": [
      "ps_car_04_cat_6 1 0 2 [0, 1]\nps_car_04_cat_7 1 0 2 [0, 1]\n"
     ]
    },
    {
     "name": "stdout",
     "output_type": "stream",
     "text": [
      "ps_car_04_cat_8 1 0 2 [0, 1]\nps_car_04_cat_9 1 0 2 [0, 1]\n"
     ]
    },
    {
     "name": "stdout",
     "output_type": "stream",
     "text": [
      "ps_car_05_cat_-1 1 0 2 [0, 1]\nps_car_05_cat_0 1 0 2 [0, 1]\n"
     ]
    },
    {
     "name": "stdout",
     "output_type": "stream",
     "text": [
      "ps_car_05_cat_1 1 0 2 [0, 1]\nps_car_06_cat_0 1 0 2 [0, 1]\n"
     ]
    },
    {
     "name": "stdout",
     "output_type": "stream",
     "text": [
      "ps_car_06_cat_1 1 0 2 [0, 1]\nps_car_06_cat_2 1 0 2 [0, 1]\n"
     ]
    },
    {
     "name": "stdout",
     "output_type": "stream",
     "text": [
      "ps_car_06_cat_3 1 0 2 [0, 1]\nps_car_06_cat_4 1 0 2 [0, 1]\n"
     ]
    },
    {
     "name": "stdout",
     "output_type": "stream",
     "text": [
      "ps_car_06_cat_5 1 0 2 [0, 1]\nps_car_06_cat_6 1 0 2 [0, 1]\n"
     ]
    },
    {
     "name": "stdout",
     "output_type": "stream",
     "text": [
      "ps_car_06_cat_7 1 0 2 [0, 1]\nps_car_06_cat_8 1 0 2 [0, 1]\n"
     ]
    },
    {
     "name": "stdout",
     "output_type": "stream",
     "text": [
      "ps_car_06_cat_9 1 0 2 [0, 1]\nps_car_06_cat_10 1 0 2 [0, 1]\n"
     ]
    },
    {
     "name": "stdout",
     "output_type": "stream",
     "text": [
      "ps_car_06_cat_11 1 0 2 [0, 1]\nps_car_06_cat_12 1 0 2 [0, 1]\n"
     ]
    },
    {
     "name": "stdout",
     "output_type": "stream",
     "text": [
      "ps_car_06_cat_13 1 0 2 [0, 1]\nps_car_06_cat_14 1 0 2 [0, 1]\n"
     ]
    },
    {
     "name": "stdout",
     "output_type": "stream",
     "text": [
      "ps_car_06_cat_15 1 0 2 [0, 1]\nps_car_06_cat_16 1 0 2 [0, 1]\n"
     ]
    },
    {
     "name": "stdout",
     "output_type": "stream",
     "text": [
      "ps_car_06_cat_17 1 0 2 [0, 1]\nps_car_07_cat_0 1 0 2 [0, 1]\n"
     ]
    },
    {
     "name": "stdout",
     "output_type": "stream",
     "text": [
      "ps_car_07_cat_1 1 0 2 [0, 1]\nps_car_08_cat_0 1 0 2 [0, 1]\n"
     ]
    },
    {
     "name": "stdout",
     "output_type": "stream",
     "text": [
      "ps_car_08_cat_1 1 0 2 [0, 1]\nps_car_09_cat_0 1 0 2 [0, 1]\n"
     ]
    },
    {
     "name": "stdout",
     "output_type": "stream",
     "text": [
      "ps_car_09_cat_1 1 0 2 [0, 1]\nps_car_09_cat_2 1 0 2 [0, 1]\n"
     ]
    },
    {
     "name": "stdout",
     "output_type": "stream",
     "text": [
      "ps_car_09_cat_3 1 0 2 [0, 1]\nps_car_09_cat_4 1 0 2 [0, 1]\n"
     ]
    },
    {
     "name": "stdout",
     "output_type": "stream",
     "text": [
      "ps_car_10_cat_0 1 0 2 [0, 1]\nps_car_10_cat_1 1 0 2 [0, 1]\n"
     ]
    },
    {
     "name": "stdout",
     "output_type": "stream",
     "text": [
      "ps_car_10_cat_2 1 0 2 [0, 1]\nps_car_11_0 1 0 2 [0, 1]\n"
     ]
    },
    {
     "name": "stdout",
     "output_type": "stream",
     "text": [
      "ps_car_11_1 1 0 2 [0, 1]\nps_car_11_2 1 0 2 [0, 1]\n"
     ]
    },
    {
     "name": "stdout",
     "output_type": "stream",
     "text": [
      "ps_car_11_3 1 0 2 [0, 1]\nps_car_11_cat_1 1 0 2 [0, 1]\n"
     ]
    },
    {
     "name": "stdout",
     "output_type": "stream",
     "text": [
      "ps_car_11_cat_2 1 0 2 [0, 1]\nps_car_11_cat_3 1 0 2 [0, 1]\n"
     ]
    },
    {
     "name": "stdout",
     "output_type": "stream",
     "text": [
      "ps_car_11_cat_4 1 0 2 [0, 1]\nps_car_11_cat_5 1 0 2 [0, 1]\n"
     ]
    },
    {
     "name": "stdout",
     "output_type": "stream",
     "text": [
      "ps_car_11_cat_6 1 0 2 [0, 1]\nps_car_11_cat_7 1 0 2 [0, 1]\n"
     ]
    },
    {
     "name": "stdout",
     "output_type": "stream",
     "text": [
      "ps_car_11_cat_8 1 0 2 [0, 1]\nps_car_11_cat_9 1 0 2 [0, 1]\n"
     ]
    },
    {
     "name": "stdout",
     "output_type": "stream",
     "text": [
      "ps_car_11_cat_10 1 0 2 [0, 1]\nps_car_11_cat_11 1 0 2 [0, 1]\n"
     ]
    },
    {
     "name": "stdout",
     "output_type": "stream",
     "text": [
      "ps_car_11_cat_12 1 0 2 [0, 1]\nps_car_11_cat_13 1 0 2 [0, 1]\n"
     ]
    },
    {
     "name": "stdout",
     "output_type": "stream",
     "text": [
      "ps_car_11_cat_14 1 0 2 [0, 1]\nps_car_11_cat_15 1 0 2 [0, 1]\n"
     ]
    },
    {
     "name": "stdout",
     "output_type": "stream",
     "text": [
      "ps_car_11_cat_16 1 0 2 [0, 1]\nps_car_11_cat_17 1 0 2 [0, 1]\n"
     ]
    },
    {
     "name": "stdout",
     "output_type": "stream",
     "text": [
      "ps_car_11_cat_18 1 0 2 [0, 1]\nps_car_11_cat_19 1 0 2 [0, 1]\n"
     ]
    },
    {
     "name": "stdout",
     "output_type": "stream",
     "text": [
      "ps_car_11_cat_20 1 0 2 [0, 1]\nps_car_11_cat_21 1 0 2 [0, 1]\n"
     ]
    },
    {
     "name": "stdout",
     "output_type": "stream",
     "text": [
      "ps_car_11_cat_22 1 0 2 [0, 1]\nps_car_11_cat_23 1 0 2 [0, 1]\n"
     ]
    },
    {
     "name": "stdout",
     "output_type": "stream",
     "text": [
      "ps_car_11_cat_24 1 0 2 [0, 1]\nps_car_11_cat_25 1 0 2 [0, 1]\n"
     ]
    },
    {
     "name": "stdout",
     "output_type": "stream",
     "text": [
      "ps_car_11_cat_26 1 0 2 [0, 1]\nps_car_11_cat_27 1 0 2 [0, 1]\n"
     ]
    },
    {
     "name": "stdout",
     "output_type": "stream",
     "text": [
      "ps_car_11_cat_28 1 0 2 [0, 1]\nps_car_11_cat_29 1 0 2 [0, 1]\n"
     ]
    },
    {
     "name": "stdout",
     "output_type": "stream",
     "text": [
      "ps_car_11_cat_30 1 0 2 [0, 1]\nps_car_11_cat_31 1 0 2 [0, 1]\n"
     ]
    },
    {
     "name": "stdout",
     "output_type": "stream",
     "text": [
      "ps_car_11_cat_32 1 0 2 [0, 1]\nps_car_11_cat_33 1 0 2 [0, 1]\n"
     ]
    },
    {
     "name": "stdout",
     "output_type": "stream",
     "text": [
      "ps_car_11_cat_34 1 0 2 [0, 1]\nps_car_11_cat_35 1 0 2 [0, 1]\n"
     ]
    },
    {
     "name": "stdout",
     "output_type": "stream",
     "text": [
      "ps_car_11_cat_36 1 0 2 [0, 1]\nps_car_11_cat_37 1 0 2 [0, 1]\n"
     ]
    },
    {
     "name": "stdout",
     "output_type": "stream",
     "text": [
      "ps_car_11_cat_38 1 0 2 [0, 1]\nps_car_11_cat_39 1 0 2 [0, 1]\n"
     ]
    },
    {
     "name": "stdout",
     "output_type": "stream",
     "text": [
      "ps_car_11_cat_40 1 0 2 [0, 1]\nps_car_11_cat_41 1 0 2 [0, 1]\n"
     ]
    },
    {
     "name": "stdout",
     "output_type": "stream",
     "text": [
      "ps_car_11_cat_42 1 0 2 [0, 1]\nps_car_11_cat_43 1 0 2 [0, 1]\n"
     ]
    },
    {
     "name": "stdout",
     "output_type": "stream",
     "text": [
      "ps_car_11_cat_44 1 0 2 [0, 1]\nps_car_11_cat_45 1 0 2 [0, 1]\n"
     ]
    },
    {
     "name": "stdout",
     "output_type": "stream",
     "text": [
      "ps_car_11_cat_46 1 0 2 [0, 1]\nps_car_11_cat_47 1 0 2 [0, 1]\n"
     ]
    },
    {
     "name": "stdout",
     "output_type": "stream",
     "text": [
      "ps_car_11_cat_48 1 0 2 [0, 1]\nps_car_11_cat_49 1 0 2 [0, 1]\n"
     ]
    },
    {
     "name": "stdout",
     "output_type": "stream",
     "text": [
      "ps_car_11_cat_50 1 0 2 [0, 1]\nps_car_11_cat_51 1 0 2 [0, 1]\n"
     ]
    },
    {
     "name": "stdout",
     "output_type": "stream",
     "text": [
      "ps_car_11_cat_52 1 0 2 [0, 1]\nps_car_11_cat_53 1 0 2 [0, 1]\n"
     ]
    },
    {
     "name": "stdout",
     "output_type": "stream",
     "text": [
      "ps_car_11_cat_54 1 0 2 [0, 1]\nps_car_11_cat_55 1 0 2 [0, 1]\n"
     ]
    },
    {
     "name": "stdout",
     "output_type": "stream",
     "text": [
      "ps_car_11_cat_56 1 0 2 [0, 1]\nps_car_11_cat_57 1 0 2 [0, 1]\n"
     ]
    },
    {
     "name": "stdout",
     "output_type": "stream",
     "text": [
      "ps_car_11_cat_58 1 0 2 [0, 1]\nps_car_11_cat_59 1 0 2 [0, 1]\n"
     ]
    },
    {
     "name": "stdout",
     "output_type": "stream",
     "text": [
      "ps_car_11_cat_60 1 0 2 [0, 1]\nps_car_11_cat_61 1 0 2 [0, 1]\n"
     ]
    },
    {
     "name": "stdout",
     "output_type": "stream",
     "text": [
      "ps_car_11_cat_62 1 0 2 [0, 1]\nps_car_11_cat_63 1 0 2 [0, 1]\n"
     ]
    },
    {
     "name": "stdout",
     "output_type": "stream",
     "text": [
      "ps_car_11_cat_64 1 0 2 [0, 1]\nps_car_11_cat_65 1 0 2 [0, 1]\n"
     ]
    },
    {
     "name": "stdout",
     "output_type": "stream",
     "text": [
      "ps_car_11_cat_66 1 0 2 [0, 1]\nps_car_11_cat_67 1 0 2 [0, 1]\n"
     ]
    },
    {
     "name": "stdout",
     "output_type": "stream",
     "text": [
      "ps_car_11_cat_68 1 0 2 [0, 1]\nps_car_11_cat_69 1 0 2 [0, 1]\n"
     ]
    },
    {
     "name": "stdout",
     "output_type": "stream",
     "text": [
      "ps_car_11_cat_70 1 0 2 [0, 1]\nps_car_11_cat_71 1 0 2 [0, 1]\n"
     ]
    },
    {
     "name": "stdout",
     "output_type": "stream",
     "text": [
      "ps_car_11_cat_72 1 0 2 [0, 1]\nps_car_11_cat_73 1 0 2 [0, 1]\n"
     ]
    },
    {
     "name": "stdout",
     "output_type": "stream",
     "text": [
      "ps_car_11_cat_74 1 0 2 [0, 1]\nps_car_11_cat_75 1 0 2 [0, 1]\n"
     ]
    },
    {
     "name": "stdout",
     "output_type": "stream",
     "text": [
      "ps_car_11_cat_76 1 0 2 [0, 1]\nps_car_11_cat_77 1 0 2 [0, 1]\n"
     ]
    },
    {
     "name": "stdout",
     "output_type": "stream",
     "text": [
      "ps_car_11_cat_78 1 0 2 [0, 1]\nps_car_11_cat_79 1 0 2 [0, 1]\n"
     ]
    },
    {
     "name": "stdout",
     "output_type": "stream",
     "text": [
      "ps_car_11_cat_80 1 0 2 [0, 1]\nps_car_11_cat_81 1 0 2 [0, 1]\n"
     ]
    },
    {
     "name": "stdout",
     "output_type": "stream",
     "text": [
      "ps_car_11_cat_82 1 0 2 [0, 1]\nps_car_11_cat_83 1 0 2 [0, 1]\n"
     ]
    },
    {
     "name": "stdout",
     "output_type": "stream",
     "text": [
      "ps_car_11_cat_84 1 0 2 [0, 1]\nps_car_11_cat_85 1 0 2 [0, 1]\n"
     ]
    },
    {
     "name": "stdout",
     "output_type": "stream",
     "text": [
      "ps_car_11_cat_86 1 0 2 [0, 1]\nps_car_11_cat_87 1 0 2 [0, 1]\nps_car_11_cat_88 1 0 2 [0, 1]\n"
     ]
    },
    {
     "name": "stdout",
     "output_type": "stream",
     "text": [
      "ps_car_11_cat_89 1 0 2 [0, 1]\nps_car_11_cat_90 1 0 2 [0, 1]\nps_car_11_cat_91 1 0 2 [0, 1]\n"
     ]
    },
    {
     "name": "stdout",
     "output_type": "stream",
     "text": [
      "ps_car_11_cat_92 1 0 2 [0, 1]\nps_car_11_cat_93 1 0 2 [0, 1]\nps_car_11_cat_94 1 0 2 [0, 1]\n"
     ]
    },
    {
     "name": "stdout",
     "output_type": "stream",
     "text": [
      "ps_car_11_cat_95 1 0 2 [0, 1]\nps_car_11_cat_96 1 0 2 [0, 1]\nps_car_11_cat_97 1 0 2 [0, 1]\n"
     ]
    },
    {
     "name": "stdout",
     "output_type": "stream",
     "text": [
      "ps_car_11_cat_98 1 0 2 [0, 1]\nps_car_11_cat_99 1 0 2 [0, 1]\nps_car_11_cat_100 1 0 2 [0, 1]\n"
     ]
    },
    {
     "name": "stdout",
     "output_type": "stream",
     "text": [
      "ps_car_11_cat_101 1 0 2 [0, 1]\nps_car_11_cat_102 1 0 2 [0, 1]\nps_car_11_cat_103 1 0 2 [0, 1]\n"
     ]
    },
    {
     "name": "stdout",
     "output_type": "stream",
     "text": [
      "ps_car_11_cat_104 1 0 2 [0, 1]\nps_ind_01_0 1 0 2 [0, 1]\n"
     ]
    },
    {
     "name": "stdout",
     "output_type": "stream",
     "text": [
      "ps_ind_01_1 1 0 2 [0, 1]\nps_ind_01_2 1 0 2 [0, 1]\nps_ind_01_3 1 0 2 [0, 1]\n"
     ]
    },
    {
     "name": "stdout",
     "output_type": "stream",
     "text": [
      "ps_ind_01_4 1 0 2 [0, 1]\nps_ind_01_5 1 0 2 [0, 1]\nps_ind_01_6 1 0 2 [0, 1]\n"
     ]
    },
    {
     "name": "stdout",
     "output_type": "stream",
     "text": [
      "ps_ind_01_7 1 0 2 [0, 1]\nps_ind_02_cat_1 1 0 2 [0, 1]\nps_ind_02_cat_2 1 0 2 [0, 1]\n"
     ]
    },
    {
     "name": "stdout",
     "output_type": "stream",
     "text": [
      "ps_ind_02_cat_3 1 0 2 [0, 1]\nps_ind_02_cat_4 1 0 2 [0, 1]\nps_ind_03_0 1 0 2 [0, 1]\n"
     ]
    },
    {
     "name": "stdout",
     "output_type": "stream",
     "text": [
      "ps_ind_03_1 1 0 2 [0, 1]\nps_ind_03_2 1 0 2 [0, 1]\nps_ind_03_3 1 0 2 [0, 1]\n"
     ]
    },
    {
     "name": "stdout",
     "output_type": "stream",
     "text": [
      "ps_ind_03_4 1 0 2 [0, 1]\nps_ind_03_5 1 0 2 [0, 1]\nps_ind_03_6 1 0 2 [0, 1]\n"
     ]
    },
    {
     "name": "stdout",
     "output_type": "stream",
     "text": [
      "ps_ind_03_7 1 0 2 [0, 1]\nps_ind_03_8 1 0 2 [0, 1]\nps_ind_03_9 1 0 2 [0, 1]\n"
     ]
    },
    {
     "name": "stdout",
     "output_type": "stream",
     "text": [
      "ps_ind_03_10 1 0 2 [0, 1]\nps_ind_03_11 1 0 2 [0, 1]\nps_ind_04_cat_0 1 0 2 [0, 1]\n"
     ]
    },
    {
     "name": "stdout",
     "output_type": "stream",
     "text": [
      "ps_ind_04_cat_1 1 0 2 [0, 1]\nps_ind_05_cat_0 1 0 2 [0, 1]\nps_ind_05_cat_1 1 0 2 [0, 1]\n"
     ]
    },
    {
     "name": "stdout",
     "output_type": "stream",
     "text": [
      "ps_ind_05_cat_2 1 0 2 [0, 1]\nps_ind_05_cat_3 1 0 2 [0, 1]\nps_ind_05_cat_4 1 0 2 [0, 1]\n"
     ]
    },
    {
     "name": "stdout",
     "output_type": "stream",
     "text": [
      "ps_ind_05_cat_5 1 0 2 [0, 1]\nps_ind_05_cat_6 1 0 2 [0, 1]\nps_ind_06_bin_0 1 0 2 [0, 1]\n"
     ]
    },
    {
     "name": "stdout",
     "output_type": "stream",
     "text": [
      "ps_ind_06_bin_1 1 0 2 [0, 1]\nps_ind_07_bin_0 1 0 2 [0, 1]\nps_ind_07_bin_1 1 0 2 [0, 1]\n"
     ]
    },
    {
     "name": "stdout",
     "output_type": "stream",
     "text": [
      "ps_ind_08_bin_0 1 0 2 [0, 1]\nps_ind_08_bin_1 1 0 2 [0, 1]\nps_ind_09_bin_0 1 0 2 [0, 1]\n"
     ]
    },
    {
     "name": "stdout",
     "output_type": "stream",
     "text": [
      "ps_ind_09_bin_1 1 0 2 [0, 1]\nps_ind_10_bin_0 1 0 2 [0, 1]\nps_ind_10_bin_1 1 0 2 [0, 1]\n"
     ]
    },
    {
     "name": "stdout",
     "output_type": "stream",
     "text": [
      "ps_ind_11_bin_0 1 0 2 [0, 1]\nps_ind_11_bin_1 1 0 2 [0, 1]\nps_ind_12_bin_0 1 0 2 [0, 1]\n"
     ]
    },
    {
     "name": "stdout",
     "output_type": "stream",
     "text": [
      "ps_ind_12_bin_1 1 0 2 [0, 1]\nps_ind_13_bin_0 1 0 2 [0, 1]\nps_ind_13_bin_1 1 0 2 [0, 1]\n"
     ]
    },
    {
     "name": "stdout",
     "output_type": "stream",
     "text": [
      "ps_ind_14_0 1 0 2 [0, 1]\nps_ind_14_1 1 0 2 [0, 1]\nps_ind_14_2 1 0 2 [0, 1]\n"
     ]
    },
    {
     "name": "stdout",
     "output_type": "stream",
     "text": [
      "ps_ind_14_3 1 0 2 [0, 1]\nps_ind_14_4 1 0 2 [0, 1]\nps_ind_15_0 1 0 2 [0, 1]\n"
     ]
    },
    {
     "name": "stdout",
     "output_type": "stream",
     "text": [
      "ps_ind_15_1 1 0 2 [0, 1]\nps_ind_15_2 1 0 2 [0, 1]\nps_ind_15_3 1 0 2 [0, 1]\n"
     ]
    },
    {
     "name": "stdout",
     "output_type": "stream",
     "text": [
      "ps_ind_15_4 1 0 2 [0, 1]\nps_ind_15_5 1 0 2 [0, 1]\nps_ind_15_6 1 0 2 [0, 1]\n"
     ]
    },
    {
     "name": "stdout",
     "output_type": "stream",
     "text": [
      "ps_ind_15_7 1 0 2 [0, 1]\nps_ind_15_8 1 0 2 [0, 1]\nps_ind_15_9 1 0 2 [0, 1]\n"
     ]
    },
    {
     "name": "stdout",
     "output_type": "stream",
     "text": [
      "ps_ind_15_10 1 0 2 [0, 1]\nps_ind_15_11 1 0 2 [0, 1]\nps_ind_15_12 1 0 2 [0, 1]\n"
     ]
    },
    {
     "name": "stdout",
     "output_type": "stream",
     "text": [
      "ps_ind_15_13 1 0 2 [0, 1]\nps_ind_16_bin_0 1 0 2 [0, 1]\nps_ind_16_bin_1 1 0 2 [0, 1]\n"
     ]
    },
    {
     "name": "stdout",
     "output_type": "stream",
     "text": [
      "ps_ind_17_bin_0 1 0 2 [0, 1]\nps_ind_17_bin_1 1 0 2 [0, 1]\nps_ind_18_bin_0 1 0 2 [0, 1]\n"
     ]
    },
    {
     "name": "stdout",
     "output_type": "stream",
     "text": [
      "ps_ind_18_bin_1 1 0 2 [0, 1]\n"
     ]
    }
   ],
   "source": [
    "# 整数类型的特征先indexing\n",
    "feature_all_embedding_offset = 0\n",
    "\n",
    "data_indexed, feature_all_embedding_length = preprocess_utils.indexing(\n",
    "    df=data_catergory_onehot,\n",
    "    columns=data_onehot_feature_type_int_name,\n",
    "    offset=feature_all_embedding_offset,\n",
    "    neat=False\n",
    ")\n",
    "feature_all_embedding_length = math.ceil(feature_all_embedding_length/100)*100"
   ]
  },
  {
   "cell_type": "code",
   "execution_count": 18,
   "metadata": {},
   "outputs": [],
   "source": [
    "# 保存indexing后的offset\n",
    "config.parameter.put('embedding.index.offset', feature_all_embedding_offset)\n",
    "config.parameter.put('embedding.index.length', feature_all_embedding_length)"
   ]
  },
  {
   "cell_type": "markdown",
   "metadata": {},
   "source": [
    "#### 保存"
   ]
  },
  {
   "cell_type": "code",
   "execution_count": 20,
   "metadata": {},
   "outputs": [],
   "source": [
    "data_indexed_path = config.data.path('data_indexed.csv')\n",
    "data_indexed_clip_path = config.data.path('data_indexed_clip.csv')\n",
    "\n",
    "data_indexed_train_path = config.data.path('data_indexed_train.csv')\n",
    "data_indexed_train_clip_path = config.data.path('data_indexed_train_clip.csv')\n",
    "\n",
    "data_indexed_test_path = config.data.path('data_indexed_test.csv')\n",
    "data_indexed_test_clip_path = config.data.path('data_indexed_test_clip.csv')"
   ]
  },
  {
   "cell_type": "code",
   "execution_count": 14,
   "metadata": {},
   "outputs": [],
   "source": [
    "data_indexed.to_csv(data_indexed_path, index=False)"
   ]
  },
  {
   "cell_type": "code",
   "execution_count": 28,
   "metadata": {},
   "outputs": [],
   "source": [
    "data_indexed\\\n",
    "    .groupby('target').apply(lambda x: x.sample(frac=0.01))\\\n",
    "    .to_csv(data_indexed_clip_path, index=False)"
   ]
  },
  {
   "cell_type": "code",
   "execution_count": null,
   "metadata": {},
   "outputs": [],
   "source": [
    "data_indexing = pd.read_csv(data_indexing_path)"
   ]
  },
  {
   "cell_type": "code",
   "execution_count": 21,
   "metadata": {},
   "outputs": [],
   "source": [
    "data_indexed[data_indexed['set'] == 'train'].to_csv(data_indexed_train_path, index=False)"
   ]
  },
  {
   "cell_type": "code",
   "execution_count": 25,
   "metadata": {},
   "outputs": [],
   "source": [
    "data_indexed[data_indexed['set'] == 'train']\\\n",
    "    .groupby('target').apply(lambda x: x.sample(frac=0.05))\\\n",
    "    .to_csv(data_indexed_train_clip_path, index=False)"
   ]
  },
  {
   "cell_type": "code",
   "execution_count": 23,
   "metadata": {},
   "outputs": [],
   "source": [
    "data_indexed[data_indexed['set'] == 'test'].to_csv(data_indexed_test_path, index=False)"
   ]
  },
  {
   "cell_type": "code",
   "execution_count": 27,
   "metadata": {},
   "outputs": [],
   "source": [
    "data_indexed[data_indexed['set'] == 'test']\\\n",
    "    .groupby('target').apply(lambda x: x.sample(frac=0.05))\\\n",
    "    .to_csv(data_indexed_test_clip_path, index=False)"
   ]
  },
  {
   "cell_type": "code",
   "execution_count": null,
   "metadata": {},
   "outputs": [],
   "source": []
  },
  {
   "cell_type": "code",
   "execution_count": 91,
   "metadata": {},
   "outputs": [],
   "source": [
    "# 计算下相关性\n",
    "cor = data_train_catergory_onehot.corr()"
   ]
  },
  {
   "cell_type": "code",
   "execution_count": 104,
   "metadata": {},
   "outputs": [],
   "source": [
    "from sklearn.model_selection import KFold, train_test_split\n",
    "from sklearn.metrics import confusion_matrix\n",
    "from sklearn.metrics import accuracy_score\n",
    "from sklearn.metrics import precision_recall_fscore_support\n",
    "\n"
   ]
  },
  {
   "cell_type": "code",
   "execution_count": null,
   "metadata": {},
   "outputs": [
    {
     "name": "stderr",
     "output_type": "stream",
     "text": [
      "/Users/kami.wm/Environment/DataScience-python3.6/lib/python3.6/site-packages/sklearn/model_selection/_split.py:2026: FutureWarning: From version 0.21, test_size will always complement train_size unless both are specified.\n  FutureWarning)\n"
     ]
    }
   ],
   "source": [
    "data_fill_reg_0s = data_train_catergory_onehot_ps_reg_03_intact.sample(n=1000)\n",
    "\n",
    "x_fill_reg_03 = \\\n",
    "    data_fill_reg_0s[preprocessed_data_column_name_list_feature_all]\n",
    "y_fill_reg_03 = \\\n",
    "    data_fill_reg_0s['ps_reg_03']\n",
    "\n",
    "x_fill_reg_03_train, x_fill_reg_03_test, y_fill_reg_03_train, y_fill_reg_03_test = train_test_split(\n",
    "    x_fill_reg_03.values, y_fill_reg_03.values, train_size=0.8)"
   ]
  },
  {
   "cell_type": "code",
   "execution_count": 106,
   "metadata": {},
   "outputs": [
    {
     "name": "stdout",
     "output_type": "stream",
     "text": [
      "########################################################################################################################\n构建模型\n"
     ]
    }
   ],
   "source": [
    "import xgboost as xgb\n",
    "\n",
    "print(\"#\"*120)\n",
    "print(\"构建模型\")\n",
    "xgb_model = xgb.XGBClassifier(\n",
    "    objective= 'reg:logistic',\n",
    "    max_depth=5,\n",
    "    min_child_weight=1,\n",
    "    nthread=8,\n",
    ")\n"
   ]
  },
  {
   "cell_type": "code",
   "execution_count": 113,
   "metadata": {},
   "outputs": [],
   "source": [
    "rng = np.random.RandomState(31337)\n",
    "kf = KFold(n_splits=4, shuffle=True, random_state=rng)\n",
    "\n",
    "for i, (train_index, test_index) in enumerate(kf.split(x_fill_reg_03_train, y_fill_reg_03_train)):\n",
    "    xgb_model.fit(x_fill_reg_03_train[train_index], y_fill_reg_03_train[train_index])\n",
    "\n",
    "    _y = xgb_model.predict(x_fill_reg_03_train[test_index])\n",
    "    y = y_fill_reg_03_train[test_index]\n",
    "\n",
    "    confuse = confusion_matrix(y, _y)\n",
    "    print(\"第{0}次, CV混淆矩阵 = \".format(i))\n",
    "    print(confuse)\n",
    "\n",
    "    acc = accuracy_score(xgb_model.predict(x_fill_reg_03_test), y_fill_reg_03_test)\n",
    "\n",
    "    print(\"第{0}次, 测试集准确率 = \".format(i))\n",
    "    print(acc)"
   ]
  },
  {
   "cell_type": "code",
   "execution_count": null,
   "metadata": {},
   "outputs": [],
   "source": []
  }
 ],
 "metadata": {
  "kernelspec": {
   "display_name": "Python 2",
   "language": "python",
   "name": "python2"
  },
  "language_info": {
   "codemirror_mode": {
    "name": "ipython",
    "version": 2
   },
   "file_extension": ".py",
   "mimetype": "text/x-python",
   "name": "python",
   "nbconvert_exporter": "python",
   "pygments_lexer": "ipython2",
   "version": "2.7.6"
  }
 },
 "nbformat": 4,
 "nbformat_minor": 0
}

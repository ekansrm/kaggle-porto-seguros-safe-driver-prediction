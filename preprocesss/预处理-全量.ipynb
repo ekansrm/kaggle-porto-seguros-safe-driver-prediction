{
 "cells": [
  {
   "cell_type": "code",
   "execution_count": 1,
   "metadata": {
    "collapsed": true
   },
   "outputs": [],
   "source": [
    "import pandas as pd\n",
    "from setup import config\n",
    "import preprocesss.utils as preprocess_utils\n",
    "import numpy as np\n",
    "import math"
   ]
  },
  {
   "cell_type": "code",
   "execution_count": 2,
   "metadata": {},
   "outputs": [],
   "source": [
    "feature_all_config = config.cast('feature.all')"
   ]
  },
  {
   "cell_type": "markdown",
   "metadata": {},
   "source": [
    "## 加载训练数据和测试数据"
   ]
  },
  {
   "cell_type": "code",
   "execution_count": 4,
   "metadata": {},
   "outputs": [],
   "source": [
    "data_train_path = config.data.path('train.csv')\n",
    "data_test_path = config.data.path('test.csv')"
   ]
  },
  {
   "cell_type": "code",
   "execution_count": 5,
   "metadata": {},
   "outputs": [],
   "source": [
    "data_train = pd.read_csv(data_train_path)\n",
    "data_test = pd.read_csv(data_test_path)"
   ]
  },
  {
   "cell_type": "markdown",
   "metadata": {},
   "source": [
    "## 合并数据"
   ]
  },
  {
   "cell_type": "code",
   "execution_count": 6,
   "metadata": {},
   "outputs": [],
   "source": [
    "data_train['set'] = 'train'\n",
    "data_test['set'] = 'test'"
   ]
  },
  {
   "cell_type": "code",
   "execution_count": 7,
   "metadata": {},
   "outputs": [],
   "source": [
    "data = pd.concat([data_train, data_test], axis=0)"
   ]
  },
  {
   "cell_type": "code",
   "execution_count": 8,
   "metadata": {},
   "outputs": [
    {
     "name": "stdout",
     "output_type": "stream",
     "text": [
      "   id  ps_calc_01  ps_calc_02  ps_calc_03  ps_calc_04  ps_calc_05  ps_calc_06  \\\n0   7         0.6         0.5         0.2           3           1          10   \n1   9         0.3         0.1         0.3           2           1           9   \n2  13         0.5         0.7         0.1           2           2           9   \n3  16         0.6         0.9         0.1           2           4           7   \n4  17         0.4         0.6         0.0           2           2           6   \n5  19         0.7         0.8         0.4           3           1           8   \n6  20         0.2         0.6         0.5           2           2           8   \n7  22         0.1         0.5         0.1           1           2           7   \n8  26         0.9         0.8         0.6           3           1           7   \n9  28         0.7         0.8         0.8           2           2           8   \n\n   ps_calc_07  ps_calc_08  ps_calc_09   ...    ps_ind_14  ps_ind_15  \\\n0           1          10           1   ...            0         11   \n1           5           8           1   ...            0          3   \n2           1           8           2   ...            0         12   \n3           1           8           4   ...            0          8   \n4           3          10           2   ...            0          9   \n5           2          11           3   ...            0          6   \n6           1           8           3   ...            0          8   \n7           1           6           1   ...            0         13   \n8           3           9           4   ...            0          6   \n9           2           9           1   ...            0          4   \n\n   ps_ind_16_bin  ps_ind_17_bin  ps_ind_18_bin  ps_reg_01  ps_reg_02  \\\n0              0              1              0        0.7        0.2   \n1              0              0              1        0.8        0.4   \n2              1              0              0        0.0        0.0   \n3              1              0              0        0.9        0.2   \n4              1              0              0        0.7        0.6   \n5              1              0              0        0.9        1.8   \n6              1              0              0        0.6        0.1   \n7              1              0              0        0.7        0.4   \n8              1              0              0        0.9        0.7   \n9              0              0              1        0.9        1.4   \n\n   ps_reg_03    set  target  \n0   0.718070  train     0.0  \n1   0.766078  train     0.0  \n2  -1.000000  train     0.0  \n3   0.580948  train     0.0  \n4   0.840759  train     0.0  \n5   2.332649  train     0.0  \n6   0.617454  train     0.0  \n7   0.607248  train     0.0  \n8   0.901388  train     0.0  \n9   2.316652  train     1.0  \n\n[10 rows x 60 columns]\n"
     ]
    }
   ],
   "source": [
    "print(data.head(10))"
   ]
  },
  {
   "cell_type": "code",
   "execution_count": 9,
   "metadata": {},
   "outputs": [],
   "source": [
    "data_path = config.data.path('data.csv')"
   ]
  },
  {
   "cell_type": "code",
   "execution_count": 10,
   "metadata": {},
   "outputs": [],
   "source": [
    "data.to_csv = data.to_csv(data_path, index=False)"
   ]
  },
  {
   "cell_type": "code",
   "execution_count": null,
   "metadata": {},
   "outputs": [],
   "source": [
    "data = pd.read_csv(data_path)"
   ]
  },
  {
   "cell_type": "markdown",
   "metadata": {},
   "source": [
    "## 处理特征"
   ]
  },
  {
   "cell_type": "code",
   "execution_count": 11,
   "metadata": {},
   "outputs": [],
   "source": [
    "data_original_column_name_list = list(data.columns)"
   ]
  },
  {
   "cell_type": "code",
   "execution_count": 12,
   "metadata": {},
   "outputs": [],
   "source": [
    "# 获取特征列\n",
    "\n",
    "data_feature_list = preprocess_utils.get_column_name_list_by_prefix(\n",
    "    df=data,\n",
    "    prefix='ps'\n",
    ")\n",
    "data_feature_list = sorted(data_feature_list, reverse=False)"
   ]
  },
  {
   "cell_type": "code",
   "execution_count": 13,
   "metadata": {},
   "outputs": [
    {
     "name": "stdout",
     "output_type": "stream",
     "text": [
      "['ps_calc_01', 'ps_calc_02', 'ps_calc_03', 'ps_calc_04', 'ps_calc_05', 'ps_calc_06', 'ps_calc_07', 'ps_calc_08', 'ps_calc_09', 'ps_calc_10', 'ps_calc_11', 'ps_calc_12', 'ps_calc_13', 'ps_calc_14', 'ps_calc_15_bin', 'ps_calc_16_bin', 'ps_calc_17_bin', 'ps_calc_18_bin', 'ps_calc_19_bin', 'ps_calc_20_bin', 'ps_car_01_cat', 'ps_car_02_cat', 'ps_car_03_cat', 'ps_car_04_cat', 'ps_car_05_cat', 'ps_car_06_cat', 'ps_car_07_cat', 'ps_car_08_cat', 'ps_car_09_cat', 'ps_car_10_cat', 'ps_car_11', 'ps_car_11_cat', 'ps_car_12', 'ps_car_13', 'ps_car_14', 'ps_car_15', 'ps_ind_01', 'ps_ind_02_cat', 'ps_ind_03', 'ps_ind_04_cat', 'ps_ind_05_cat', 'ps_ind_06_bin', 'ps_ind_07_bin', 'ps_ind_08_bin', 'ps_ind_09_bin', 'ps_ind_10_bin', 'ps_ind_11_bin', 'ps_ind_12_bin', 'ps_ind_13_bin', 'ps_ind_14', 'ps_ind_15', 'ps_ind_16_bin', 'ps_ind_17_bin', 'ps_ind_18_bin', 'ps_reg_01', 'ps_reg_02', 'ps_reg_03']\n"
     ]
    }
   ],
   "source": [
    "print(data_feature_list)"
   ]
  },
  {
   "cell_type": "code",
   "execution_count": 14,
   "metadata": {},
   "outputs": [],
   "source": [
    "# 检查下存在缺失参数的列\n",
    "\n",
    "feature_list_with_missing_value = preprocess_utils.get_column_name_list_with_missing_value(\n",
    "    df=data,\n",
    "    feature=data_feature_list,\n",
    "    placeholder=-1,\n",
    ")\n",
    "feature_list_with_missing_value = \\\n",
    "    sorted(feature_list_with_missing_value, reverse=False)\n"
   ]
  },
  {
   "cell_type": "code",
   "execution_count": 15,
   "metadata": {},
   "outputs": [
    {
     "name": "stdout",
     "output_type": "stream",
     "text": [
      "['ps_car_01_cat', 'ps_car_02_cat', 'ps_car_03_cat', 'ps_car_05_cat', 'ps_car_07_cat', 'ps_car_09_cat', 'ps_car_11', 'ps_car_12', 'ps_car_14', 'ps_ind_02_cat', 'ps_ind_04_cat', 'ps_ind_05_cat', 'ps_reg_03']\n"
     ]
    }
   ],
   "source": [
    "print(feature_list_with_missing_value)"
   ]
  },
  {
   "cell_type": "code",
   "execution_count": 37,
   "metadata": {},
   "outputs": [
    {
     "name": "stdout",
     "output_type": "stream",
     "text": [
      "col: ps_car_01_cat, dtype: int64, missing rate: 0.0001797678810239041\ncol: ps_car_02_cat, dtype: int64, missing rate: 8.400368272145051e-06\ncol: ps_car_03_cat, dtype: int64, missing rate: 0.6908983689844963\ncol: ps_car_05_cat, dtype: int64, missing rate: 0.4478253126617071\n"
     ]
    },
    {
     "name": "stdout",
     "output_type": "stream",
     "text": [
      "col: ps_car_07_cat, dtype: int64, missing rate: 0.019302366215734897\ncol: ps_car_09_cat, dtype: int64, missing rate: 0.0009559619093701067\ncol: ps_car_11, dtype: int64, missing rate: 8.400368272145051e-06\ncol: ps_car_12, dtype: float64, missing rate: 1.68007365442901e-06\n"
     ]
    },
    {
     "name": "stdout",
     "output_type": "stream",
     "text": [
      "col: ps_car_14, dtype: float64, missing rate: 0.07160473915176441\ncol: ps_ind_02_cat, dtype: int64, missing rate: 0.0003628959093566662\ncol: ps_ind_04_cat, dtype: int64, missing rate: 0.00013944611331760784\n"
     ]
    },
    {
     "name": "stdout",
     "output_type": "stream",
     "text": [
      "col: ps_ind_05_cat, dtype: int64, missing rate: 0.00975954785857812\ncol: ps_reg_03, dtype: float64, missing rate: 0.18106489788512328\n"
     ]
    }
   ],
   "source": [
    "# 查看存在缺失参数的特征的类型和缺失率\n",
    "data_train_sample_number = len(data_train)\n",
    "for col in data_raw_column_name_list_with_missing_value:\n",
    "    missing_row_num = len(list(filter(lambda x: x, data_train[col] == -1)))\n",
    "    print(\"col: {0}, dtype: {1}, missing rate: {2}\".format(col, data_train[col].dtype, missing_row_num/data_train_sample_number))\n",
    "\n"
   ]
  },
  {
   "cell_type": "code",
   "execution_count": 16,
   "metadata": {},
   "outputs": [],
   "source": [
    "def show_feature_with_missing_value(df: pd.DataFrame, prefix: str, placeholder: int = -1):\n",
    "    sample_number = len(df)\n",
    "    column_name_list_with_missing_value = preprocess_utils.get_column_name_list_with_missing_value(\n",
    "        df=df,\n",
    "        feature=preprocess_utils.get_column_name_list_by_prefix(df=df, prefix=prefix),\n",
    "        placeholder=placeholder,\n",
    "    )\n",
    "    column_name_list_with_missing_value = sorted(column_name_list_with_missing_value, reverse=False)\n",
    "    \n",
    "    for col in column_name_list_with_missing_value:\n",
    "        missing_row_num = len(list(filter(lambda x: x, df[col] == placeholder)))\n",
    "        print(\"col: {0}, dtype: {1}, missing rate: {2}\".format(col, df[col].dtype, missing_row_num/sample_number))"
   ]
  },
  {
   "cell_type": "code",
   "execution_count": 17,
   "metadata": {},
   "outputs": [
    {
     "name": "stdout",
     "output_type": "stream",
     "text": [
      "col: ps_car_01_cat, dtype: int64, missing rate: 0.00017943210746034348\ncol: ps_car_02_cat, dtype: int64, missing rate: 6.72030365020013e-06\n"
     ]
    },
    {
     "name": "stdout",
     "output_type": "stream",
     "text": [
      "col: ps_car_03_cat, dtype: int64, missing rate: 0.6909426435524063\ncol: ps_car_05_cat, dtype: int64, missing rate: 0.4481837707354969\n"
     ]
    },
    {
     "name": "stdout",
     "output_type": "stream",
     "text": [
      "col: ps_car_07_cat, dtype: int64, missing rate: 0.019367915119876778\ncol: ps_car_09_cat, dtype: int64, missing rate: 0.0009717559078189389\n"
     ]
    },
    {
     "name": "stdout",
     "output_type": "stream",
     "text": [
      "col: ps_car_11, dtype: int64, missing rate: 4.032182190120078e-06\ncol: ps_car_12, dtype: float64, missing rate: 6.720303650200131e-07\n"
     ]
    },
    {
     "name": "stdout",
     "output_type": "stream",
     "text": [
      "col: ps_car_14, dtype: float64, missing rate: 0.07152083159725489\ncol: ps_ind_02_cat, dtype: int64, missing rate: 0.00035147188090546685\n"
     ]
    },
    {
     "name": "stdout",
     "output_type": "stream",
     "text": [
      "col: ps_ind_04_cat, dtype: int64, missing rate: 0.00015322292322456297\ncol: ps_ind_05_cat, dtype: int64, missing rate: 0.00975720886972557\n"
     ]
    },
    {
     "name": "stdout",
     "output_type": "stream",
     "text": [
      "col: ps_reg_03, dtype: float64, missing rate: 0.18108261403683265\n"
     ]
    }
   ],
   "source": [
    "show_feature_with_missing_value(data, prefix='ps', placeholder=-1)"
   ]
  },
  {
   "cell_type": "markdown",
   "metadata": {},
   "source": [
    "### 处理特征 `ind`"
   ]
  },
  {
   "cell_type": "code",
   "execution_count": 20,
   "metadata": {},
   "outputs": [],
   "source": [
    "# 特征 ind 的缺失值非常少, 又是整数, 取中位数即可\n",
    "\n",
    "\n",
    "def fix_feature_ind(df: pd.DataFrame) -> pd.DataFrame:\n",
    "    \n",
    "    _df = df.copy()\n",
    "    for col in ['ps_ind_02_cat', 'ps_ind_05_cat', 'ps_ind_04_cat']:\n",
    "        median = _df[col][df[col] != -1].median()\n",
    "        median = int(median)\n",
    "        # mean = data_train_catergory_onehot[col].mean()\n",
    "        # print(data_train[col].value_counts())\n",
    "        print(\"col: {0}, median: {1}\".format(col, median))\n",
    "        _df[col][_df[col] == -1] = median\n",
    "\n",
    "    return _df"
   ]
  },
  {
   "cell_type": "code",
   "execution_count": 21,
   "metadata": {},
   "outputs": [
    {
     "name": "stdout",
     "output_type": "stream",
     "text": [
      "col: ps_ind_02_cat, median: 1\ncol: ps_ind_05_cat, median: 0\ncol: ps_ind_04_cat, median: 0\n"
     ]
    },
    {
     "name": "stderr",
     "output_type": "stream",
     "text": [
      "/mnt/WORK/-.VirtualEnv.Home/DataScience-python3.5/lib/python3.5/site-packages/ipykernel_launcher.py:13: SettingWithCopyWarning: \nA value is trying to be set on a copy of a slice from a DataFrame\n\nSee the caveats in the documentation: http://pandas.pydata.org/pandas-docs/stable/indexing.html#indexing-view-versus-copy\n  del sys.path[0]\n"
     ]
    }
   ],
   "source": [
    "data_p0 = fix_feature_ind(data)"
   ]
  },
  {
   "cell_type": "code",
   "execution_count": 22,
   "metadata": {},
   "outputs": [
    {
     "name": "stdout",
     "output_type": "stream",
     "text": [
      "col: ps_car_01_cat, dtype: int64, missing rate: 0.00017943210746034348\ncol: ps_car_02_cat, dtype: int64, missing rate: 6.72030365020013e-06\n"
     ]
    },
    {
     "name": "stdout",
     "output_type": "stream",
     "text": [
      "col: ps_car_03_cat, dtype: int64, missing rate: 0.6909426435524063\ncol: ps_car_05_cat, dtype: int64, missing rate: 0.4481837707354969\n"
     ]
    },
    {
     "name": "stdout",
     "output_type": "stream",
     "text": [
      "col: ps_car_07_cat, dtype: int64, missing rate: 0.019367915119876778\ncol: ps_car_09_cat, dtype: int64, missing rate: 0.0009717559078189389\n"
     ]
    },
    {
     "name": "stdout",
     "output_type": "stream",
     "text": [
      "col: ps_car_11, dtype: int64, missing rate: 4.032182190120078e-06\ncol: ps_car_12, dtype: float64, missing rate: 6.720303650200131e-07\n"
     ]
    },
    {
     "name": "stdout",
     "output_type": "stream",
     "text": [
      "col: ps_car_14, dtype: float64, missing rate: 0.07152083159725489\ncol: ps_reg_03, dtype: float64, missing rate: 0.18108261403683265\n"
     ]
    }
   ],
   "source": [
    "# 检查效果\n",
    "\n",
    "show_feature_with_missing_value(df=data_p0, prefix='ps', placeholder=-1)"
   ]
  },
  {
   "cell_type": "code",
   "execution_count": 23,
   "metadata": {},
   "outputs": [],
   "source": [
    "# 步骤0 保存路径\n",
    "data_p0_path = config.data.path('data_p0.csv')\n"
   ]
  },
  {
   "cell_type": "code",
   "execution_count": 24,
   "metadata": {},
   "outputs": [],
   "source": [
    "data_p0.to_csv(data_p0_path, index=False)"
   ]
  },
  {
   "cell_type": "code",
   "execution_count": null,
   "metadata": {},
   "outputs": [],
   "source": [
    "data_p0 = pd.read_csv(data_p0_path)"
   ]
  },
  {
   "cell_type": "markdown",
   "metadata": {},
   "source": [
    "## 处理特征 `car`"
   ]
  },
  {
   "cell_type": "code",
   "execution_count": 25,
   "metadata": {},
   "outputs": [
    {
     "name": "stdout",
     "output_type": "stream",
     "text": [
      "col: ps_car_01_cat, dtype: int64, missing rate: 0.00017943210746034348\ncol: ps_car_02_cat, dtype: int64, missing rate: 6.72030365020013e-06\n"
     ]
    },
    {
     "name": "stdout",
     "output_type": "stream",
     "text": [
      "col: ps_car_03_cat, dtype: int64, missing rate: 0.6909426435524063\ncol: ps_car_05_cat, dtype: int64, missing rate: 0.4481837707354969\n"
     ]
    },
    {
     "name": "stdout",
     "output_type": "stream",
     "text": [
      "col: ps_car_07_cat, dtype: int64, missing rate: 0.019367915119876778\ncol: ps_car_09_cat, dtype: int64, missing rate: 0.0009717559078189389\n"
     ]
    },
    {
     "name": "stdout",
     "output_type": "stream",
     "text": [
      "col: ps_car_11, dtype: int64, missing rate: 4.032182190120078e-06\ncol: ps_car_12, dtype: float64, missing rate: 6.720303650200131e-07\n"
     ]
    },
    {
     "name": "stdout",
     "output_type": "stream",
     "text": [
      "col: ps_car_14, dtype: float64, missing rate: 0.07152083159725489\ncol: ps_reg_03, dtype: float64, missing rate: 0.18108261403683265\n"
     ]
    }
   ],
   "source": [
    "show_feature_with_missing_value(data_p0, prefix='ps', placeholder=-1)"
   ]
  },
  {
   "cell_type": "code",
   "execution_count": 28,
   "metadata": {},
   "outputs": [],
   "source": [
    "def fix_feature_car(df: pd.DataFrame) -> pd.DataFrame:\n",
    "    _df = df.copy()\n",
    "    \n",
    "    # 一下几个整形特征的缺失值非常少, 取中位数\n",
    "    for col in ['ps_car_01_cat', 'ps_car_02_cat', 'ps_car_07', 'ps_car_11']:\n",
    "        median = _df[col][df[col] != -1].median()\n",
    "        median = int(median)\n",
    "        print(df[col].value_counts())\n",
    "        print(\"col: {0}, median: {1}\".format(col, median))\n",
    "        # _df[col][_df[col] == -1] = median\n",
    "\n",
    "    return _df"
   ]
  },
  {
   "cell_type": "code",
   "execution_count": 27,
   "metadata": {},
   "outputs": [
    {
     "ename": "IndexingError",
     "evalue": "Unalignable boolean Series key provided",
     "traceback": [
      "\u001b[0;31m---------------------------------------------------------------------------\u001b[0m",
      "\u001b[0;31mIndexingError\u001b[0m                             Traceback (most recent call last)",
      "\u001b[0;32m<ipython-input-27-87be8d68a929>\u001b[0m in \u001b[0;36m<module>\u001b[0;34m()\u001b[0m\n\u001b[0;32m----> 1\u001b[0;31m \u001b[0mdata_p1\u001b[0m \u001b[0;34m=\u001b[0m \u001b[0mfix_feature_car\u001b[0m\u001b[0;34m(\u001b[0m\u001b[0mdata_p0\u001b[0m\u001b[0;34m)\u001b[0m\u001b[0;34m\u001b[0m\u001b[0m\n\u001b[0m",
      "\u001b[0;32m<ipython-input-26-226ec1febf76>\u001b[0m in \u001b[0;36mfix_feature_car\u001b[0;34m(df)\u001b[0m\n\u001b[1;32m      4\u001b[0m     \u001b[0;31m# 一下几个整形特征的缺失值非常少, 取中位数\u001b[0m\u001b[0;34m\u001b[0m\u001b[0;34m\u001b[0m\u001b[0m\n\u001b[1;32m      5\u001b[0m     \u001b[0;32mfor\u001b[0m \u001b[0mcol\u001b[0m \u001b[0;32min\u001b[0m \u001b[0;34m[\u001b[0m\u001b[0;34m'ps_car_01_cat'\u001b[0m\u001b[0;34m,\u001b[0m \u001b[0;34m'ps_car_02_cat'\u001b[0m\u001b[0;34m,\u001b[0m \u001b[0;34m'ps_car_07'\u001b[0m\u001b[0;34m,\u001b[0m \u001b[0;34m'ps_car_11'\u001b[0m\u001b[0;34m]\u001b[0m\u001b[0;34m:\u001b[0m\u001b[0;34m\u001b[0m\u001b[0m\n\u001b[0;32m----> 6\u001b[0;31m         \u001b[0mmedian\u001b[0m \u001b[0;34m=\u001b[0m \u001b[0m_df\u001b[0m\u001b[0;34m[\u001b[0m\u001b[0mcol\u001b[0m\u001b[0;34m]\u001b[0m\u001b[0;34m[\u001b[0m\u001b[0mdata_train\u001b[0m\u001b[0;34m[\u001b[0m\u001b[0mcol\u001b[0m\u001b[0;34m]\u001b[0m \u001b[0;34m!=\u001b[0m \u001b[0;34m-\u001b[0m\u001b[0;36m1\u001b[0m\u001b[0;34m]\u001b[0m\u001b[0;34m.\u001b[0m\u001b[0mmedian\u001b[0m\u001b[0;34m(\u001b[0m\u001b[0;34m)\u001b[0m\u001b[0;34m\u001b[0m\u001b[0m\n\u001b[0m\u001b[1;32m      7\u001b[0m         \u001b[0mmedian\u001b[0m \u001b[0;34m=\u001b[0m \u001b[0mint\u001b[0m\u001b[0;34m(\u001b[0m\u001b[0mmedian\u001b[0m\u001b[0;34m)\u001b[0m\u001b[0;34m\u001b[0m\u001b[0m\n\u001b[1;32m      8\u001b[0m         \u001b[0;31m# mean = data_train_catergory_onehot[col].mean()\u001b[0m\u001b[0;34m\u001b[0m\u001b[0;34m\u001b[0m\u001b[0m\n",
      "\u001b[0;32m/mnt/WORK/-.VirtualEnv.Home/DataScience-python3.5/lib/python3.5/site-packages/pandas/core/series.py\u001b[0m in \u001b[0;36m__getitem__\u001b[0;34m(self, key)\u001b[0m\n\u001b[1;32m    638\u001b[0m \u001b[0;34m\u001b[0m\u001b[0m\n\u001b[1;32m    639\u001b[0m         \u001b[0;32mif\u001b[0m \u001b[0mcom\u001b[0m\u001b[0;34m.\u001b[0m\u001b[0mis_bool_indexer\u001b[0m\u001b[0;34m(\u001b[0m\u001b[0mkey\u001b[0m\u001b[0;34m)\u001b[0m\u001b[0;34m:\u001b[0m\u001b[0;34m\u001b[0m\u001b[0m\n\u001b[0;32m--> 640\u001b[0;31m             \u001b[0mkey\u001b[0m \u001b[0;34m=\u001b[0m \u001b[0mcheck_bool_indexer\u001b[0m\u001b[0;34m(\u001b[0m\u001b[0mself\u001b[0m\u001b[0;34m.\u001b[0m\u001b[0mindex\u001b[0m\u001b[0;34m,\u001b[0m \u001b[0mkey\u001b[0m\u001b[0;34m)\u001b[0m\u001b[0;34m\u001b[0m\u001b[0m\n\u001b[0m\u001b[1;32m    641\u001b[0m \u001b[0;34m\u001b[0m\u001b[0m\n\u001b[1;32m    642\u001b[0m         \u001b[0;32mreturn\u001b[0m \u001b[0mself\u001b[0m\u001b[0;34m.\u001b[0m\u001b[0m_get_with\u001b[0m\u001b[0;34m(\u001b[0m\u001b[0mkey\u001b[0m\u001b[0;34m)\u001b[0m\u001b[0;34m\u001b[0m\u001b[0m\n",
      "\u001b[0;32m/mnt/WORK/-.VirtualEnv.Home/DataScience-python3.5/lib/python3.5/site-packages/pandas/core/indexing.py\u001b[0m in \u001b[0;36mcheck_bool_indexer\u001b[0;34m(ax, key)\u001b[0m\n\u001b[1;32m   1814\u001b[0m         \u001b[0mmask\u001b[0m \u001b[0;34m=\u001b[0m \u001b[0misnull\u001b[0m\u001b[0;34m(\u001b[0m\u001b[0mresult\u001b[0m\u001b[0;34m.\u001b[0m\u001b[0m_values\u001b[0m\u001b[0;34m)\u001b[0m\u001b[0;34m\u001b[0m\u001b[0m\n\u001b[1;32m   1815\u001b[0m         \u001b[0;32mif\u001b[0m \u001b[0mmask\u001b[0m\u001b[0;34m.\u001b[0m\u001b[0many\u001b[0m\u001b[0;34m(\u001b[0m\u001b[0;34m)\u001b[0m\u001b[0;34m:\u001b[0m\u001b[0;34m\u001b[0m\u001b[0m\n\u001b[0;32m-> 1816\u001b[0;31m             \u001b[0;32mraise\u001b[0m \u001b[0mIndexingError\u001b[0m\u001b[0;34m(\u001b[0m\u001b[0;34m'Unalignable boolean Series key provided'\u001b[0m\u001b[0;34m)\u001b[0m\u001b[0;34m\u001b[0m\u001b[0m\n\u001b[0m\u001b[1;32m   1817\u001b[0m         \u001b[0mresult\u001b[0m \u001b[0;34m=\u001b[0m \u001b[0mresult\u001b[0m\u001b[0;34m.\u001b[0m\u001b[0mastype\u001b[0m\u001b[0;34m(\u001b[0m\u001b[0mbool\u001b[0m\u001b[0;34m)\u001b[0m\u001b[0;34m.\u001b[0m\u001b[0m_values\u001b[0m\u001b[0;34m\u001b[0m\u001b[0m\n\u001b[1;32m   1818\u001b[0m     \u001b[0;32melif\u001b[0m \u001b[0mis_sparse\u001b[0m\u001b[0;34m(\u001b[0m\u001b[0mresult\u001b[0m\u001b[0;34m)\u001b[0m\u001b[0;34m:\u001b[0m\u001b[0;34m\u001b[0m\u001b[0m\n",
      "\u001b[0;31mIndexingError\u001b[0m: Unalignable boolean Series key provided"
     ],
     "output_type": "error"
    }
   ],
   "source": [
    "data_p1 = fix_feature_car(data_p0)"
   ]
  },
  {
   "cell_type": "code",
   "execution_count": null,
   "metadata": {},
   "outputs": [],
   "source": [
    "show_feature_with_missing_value(data_p1, prefix='ps', placeholder=-1)"
   ]
  },
  {
   "cell_type": "code",
   "execution_count": null,
   "metadata": {},
   "outputs": [],
   "source": [
    "data_train_catergory_onehot_pa = config.data.path('data_train_catergory_onehot.csv')"
   ]
  },
  {
   "cell_type": "code",
   "execution_count": null,
   "metadata": {},
   "outputs": [],
   "source": [
    "data_train_catergory_onehot.to_csv(data_train_catergory_onehot_path, index=False)"
   ]
  },
  {
   "cell_type": "code",
   "execution_count": null,
   "metadata": {},
   "outputs": [],
   "source": [
    "data_train_catergory_onehot = pd.read_csv(data_train_catergory_onehot_path)"
   ]
  },
  {
   "cell_type": "code",
   "execution_count": 21,
   "metadata": {},
   "outputs": [],
   "source": [
    "unpreprocessed_data_column_name_list_feature_all = preprocess_utils.get_column_name_list_by_prefix(\n",
    "    df=data_train_catergory_onehot,\n",
    "    prefix='ps'\n",
    ")"
   ]
  },
  {
   "cell_type": "code",
   "execution_count": 22,
   "metadata": {},
   "outputs": [],
   "source": [
    "unpreprocessed_data_column_name_list_with_missing_value = preprocess_utils.get_column_name_list_with_missing_value(\n",
    "    df=data_train_catergory_onehot,\n",
    "    feature=unpreprocessed_data_column_name_list_feature_all,\n",
    "    placeholder=-1,\n",
    ")"
   ]
  },
  {
   "cell_type": "code",
   "execution_count": 23,
   "metadata": {},
   "outputs": [
    {
     "name": "stdout",
     "output_type": "stream",
     "text": [
      "['ps_reg_03', 'ps_car_11', 'ps_car_12', 'ps_car_14']\n"
     ]
    }
   ],
   "source": [
    "print(unpreprocessed_data_column_name_list_with_missing_value)"
   ]
  },
  {
   "cell_type": "code",
   "execution_count": 39,
   "metadata": {
    "collapsed": false
   },
   "outputs": [
    {
     "name": "stdout",
     "output_type": "stream",
     "text": [
      "col: ps_reg_03, missing rate: 0.18106489788512328\ncol: ps_car_11, missing rate: 8.400368272145051e-06\n"
     ]
    },
    {
     "name": "stdout",
     "output_type": "stream",
     "text": [
      "col: ps_car_12, missing rate: 1.68007365442901e-06\ncol: ps_car_14, missing rate: 0.07160473915176441\n"
     ]
    }
   ],
   "source": [
    "data_train_sample_number = len(data_train)\n",
    "\n",
    "for col in unpreprocessed_data_column_name_list_with_missing_value:\n",
    "    missing_row_num = len(list(filter(lambda x: x, data_train_catergory_onehot[col] == -1)))\n",
    "    print(\"col: {0}, missing rate: {1}\".format(col, missing_row_num/data_train_sample_number))\n",
    "\n"
   ]
  },
  {
   "cell_type": "code",
   "execution_count": 48,
   "metadata": {},
   "outputs": [
    {
     "name": "stdout",
     "output_type": "stream",
     "text": [
      "col: ps_car_11, mean: 2.3460997602514753\ncol: ps_car_12, mean: 0.3799471335076438\ncol: ps_car_14, mean: 0.37469063873812564\n"
     ]
    },
    {
     "name": "stderr",
     "output_type": "stream",
     "text": [
      "/Users/kami.wm/Environment/DataScience-python3.6/lib/python3.6/site-packages/ipykernel_launcher.py:6: SettingWithCopyWarning: \nA value is trying to be set on a copy of a slice from a DataFrame\n\nSee the caveats in the documentation: http://pandas.pydata.org/pandas-docs/stable/indexing.html#indexing-view-versus-copy\n  \n"
     ]
    },
    {
     "name": "stdout",
     "output_type": "stream",
     "text": [
      "['ps_reg_03']\n"
     ]
    }
   ],
   "source": [
    "# 'ps_car_11', 'ps_car_12', 'ps_car_14' 缺失较少, 又是浮点数, 使用均值代替\n",
    "for col in ['ps_car_11', 'ps_car_12', 'ps_car_14']:\n",
    "    mean = data_train_catergory_onehot[col][data_train_catergory_onehot[col] != -1].mean()\n",
    "    # mean = data_train_catergory_onehot[col].mean()\n",
    "    print(\"col: {0}, mean: {1}\".format(col, mean))\n",
    "    data_train_catergory_onehot[col][data_train_catergory_onehot[col] == -1] = mean\n",
    "\n",
    "print(preprocess_utils.get_column_name_list_with_missing_value(\n",
    "    df=data_train_catergory_onehot,\n",
    "    feature=unpreprocessed_data_column_name_list_feature_all,\n",
    "    placeholder=-1,\n",
    "))"
   ]
  },
  {
   "cell_type": "code",
   "execution_count": 3,
   "metadata": {},
   "outputs": [],
   "source": [
    "data_train_preprocessing_save_0_path = config.data.path('train_preprocessing_save_0.csv')"
   ]
  },
  {
   "cell_type": "code",
   "execution_count": 109,
   "metadata": {},
   "outputs": [],
   "source": [
    "data_train_catergory_onehot.to_csv(data_train_preprocessing_save_0_path, index=False)"
   ]
  },
  {
   "cell_type": "code",
   "execution_count": 4,
   "metadata": {},
   "outputs": [],
   "source": [
    "data_train_catergory_onehot = pd.read_csv(data_train_preprocessing_save_0_path)"
   ]
  },
  {
   "cell_type": "code",
   "execution_count": 5,
   "metadata": {},
   "outputs": [
    {
     "name": "stdout",
     "output_type": "stream",
     "text": [
      "0    0.718070\n1    0.766078\n2   -1.000000\n3    0.580948\n4    0.840759\n5    2.332649\n6    0.617454\n7    0.607248\n8    0.901388\n9    2.316652\nName: ps_reg_03, dtype: float64\n"
     ]
    }
   ],
   "source": [
    "# 'ps_reg_03' 的缺失较多 \n",
    "\n",
    "print(data_train_catergory_onehot['ps_reg_03'].head(10))"
   ]
  },
  {
   "cell_type": "code",
   "execution_count": null,
   "metadata": {},
   "outputs": [],
   "source": [
    "# category 的列全部独热编码\n",
    "\n",
    "data_train_catergory_onehot = pd.get_dummies(\n",
    "    data=data_train,\n",
    "    columns=[col for col in data_train_original_column_name_list if '_cat' in col]\n",
    ")\n"
   ]
  },
  {
   "cell_type": "code",
   "execution_count": 7,
   "metadata": {},
   "outputs": [
    {
     "name": "stdout",
     "output_type": "stream",
     "text": [
      "['ps_ind_01', 'ps_ind_03', 'ps_ind_06_bin', 'ps_ind_07_bin', 'ps_ind_08_bin', 'ps_ind_09_bin', 'ps_ind_10_bin', 'ps_ind_11_bin', 'ps_ind_12_bin', 'ps_ind_13_bin', 'ps_ind_14', 'ps_ind_15', 'ps_ind_16_bin', 'ps_ind_17_bin', 'ps_ind_18_bin', 'ps_calc_04', 'ps_calc_05', 'ps_calc_06', 'ps_calc_07', 'ps_calc_08', 'ps_calc_09', 'ps_calc_10', 'ps_calc_11', 'ps_calc_12', 'ps_calc_13', 'ps_calc_14', 'ps_calc_15_bin', 'ps_calc_16_bin', 'ps_calc_17_bin', 'ps_calc_18_bin', 'ps_calc_19_bin', 'ps_calc_20_bin', 'ps_ind_02_cat_-1', 'ps_ind_02_cat_1', 'ps_ind_02_cat_2', 'ps_ind_02_cat_3', 'ps_ind_02_cat_4', 'ps_ind_04_cat_-1', 'ps_ind_04_cat_0', 'ps_ind_04_cat_1', 'ps_ind_05_cat_-1', 'ps_ind_05_cat_0', 'ps_ind_05_cat_1', 'ps_ind_05_cat_2', 'ps_ind_05_cat_3', 'ps_ind_05_cat_4', 'ps_ind_05_cat_5', 'ps_ind_05_cat_6', 'ps_car_01_cat_-1', 'ps_car_01_cat_0', 'ps_car_01_cat_1', 'ps_car_01_cat_2', 'ps_car_01_cat_3', 'ps_car_01_cat_4', 'ps_car_01_cat_5', 'ps_car_01_cat_6', 'ps_car_01_cat_7', 'ps_car_01_cat_8', 'ps_car_01_cat_9', 'ps_car_01_cat_10', 'ps_car_01_cat_11', 'ps_car_02_cat_-1', 'ps_car_02_cat_0', 'ps_car_02_cat_1', 'ps_car_03_cat_-1', 'ps_car_03_cat_0', 'ps_car_03_cat_1', 'ps_car_04_cat_0', 'ps_car_04_cat_1', 'ps_car_04_cat_2', 'ps_car_04_cat_3', 'ps_car_04_cat_4', 'ps_car_04_cat_5', 'ps_car_04_cat_6', 'ps_car_04_cat_7', 'ps_car_04_cat_8', 'ps_car_04_cat_9', 'ps_car_05_cat_-1', 'ps_car_05_cat_0', 'ps_car_05_cat_1', 'ps_car_06_cat_0', 'ps_car_06_cat_1', 'ps_car_06_cat_2', 'ps_car_06_cat_3', 'ps_car_06_cat_4', 'ps_car_06_cat_5', 'ps_car_06_cat_6', 'ps_car_06_cat_7', 'ps_car_06_cat_8', 'ps_car_06_cat_9', 'ps_car_06_cat_10', 'ps_car_06_cat_11', 'ps_car_06_cat_12', 'ps_car_06_cat_13', 'ps_car_06_cat_14', 'ps_car_06_cat_15', 'ps_car_06_cat_16', 'ps_car_06_cat_17', 'ps_car_07_cat_-1', 'ps_car_07_cat_0', 'ps_car_07_cat_1', 'ps_car_08_cat_0', 'ps_car_08_cat_1', 'ps_car_09_cat_-1', 'ps_car_09_cat_0', 'ps_car_09_cat_1', 'ps_car_09_cat_2', 'ps_car_09_cat_3', 'ps_car_09_cat_4', 'ps_car_10_cat_0', 'ps_car_10_cat_1', 'ps_car_10_cat_2', 'ps_car_11_cat_1', 'ps_car_11_cat_2', 'ps_car_11_cat_3', 'ps_car_11_cat_4', 'ps_car_11_cat_5', 'ps_car_11_cat_6', 'ps_car_11_cat_7', 'ps_car_11_cat_8', 'ps_car_11_cat_9', 'ps_car_11_cat_10', 'ps_car_11_cat_11', 'ps_car_11_cat_12', 'ps_car_11_cat_13', 'ps_car_11_cat_14', 'ps_car_11_cat_15', 'ps_car_11_cat_16', 'ps_car_11_cat_17', 'ps_car_11_cat_18', 'ps_car_11_cat_19', 'ps_car_11_cat_20', 'ps_car_11_cat_21', 'ps_car_11_cat_22', 'ps_car_11_cat_23', 'ps_car_11_cat_24', 'ps_car_11_cat_25', 'ps_car_11_cat_26', 'ps_car_11_cat_27', 'ps_car_11_cat_28', 'ps_car_11_cat_29', 'ps_car_11_cat_30', 'ps_car_11_cat_31', 'ps_car_11_cat_32', 'ps_car_11_cat_33', 'ps_car_11_cat_34', 'ps_car_11_cat_35', 'ps_car_11_cat_36', 'ps_car_11_cat_37', 'ps_car_11_cat_38', 'ps_car_11_cat_39', 'ps_car_11_cat_40', 'ps_car_11_cat_41', 'ps_car_11_cat_42', 'ps_car_11_cat_43', 'ps_car_11_cat_44', 'ps_car_11_cat_45', 'ps_car_11_cat_46', 'ps_car_11_cat_47', 'ps_car_11_cat_48', 'ps_car_11_cat_49', 'ps_car_11_cat_50', 'ps_car_11_cat_51', 'ps_car_11_cat_52', 'ps_car_11_cat_53', 'ps_car_11_cat_54', 'ps_car_11_cat_55', 'ps_car_11_cat_56', 'ps_car_11_cat_57', 'ps_car_11_cat_58', 'ps_car_11_cat_59', 'ps_car_11_cat_60', 'ps_car_11_cat_61', 'ps_car_11_cat_62', 'ps_car_11_cat_63', 'ps_car_11_cat_64', 'ps_car_11_cat_65', 'ps_car_11_cat_66', 'ps_car_11_cat_67', 'ps_car_11_cat_68', 'ps_car_11_cat_69', 'ps_car_11_cat_70', 'ps_car_11_cat_71', 'ps_car_11_cat_72', 'ps_car_11_cat_73', 'ps_car_11_cat_74', 'ps_car_11_cat_75', 'ps_car_11_cat_76', 'ps_car_11_cat_77', 'ps_car_11_cat_78', 'ps_car_11_cat_79', 'ps_car_11_cat_80', 'ps_car_11_cat_81', 'ps_car_11_cat_82', 'ps_car_11_cat_83', 'ps_car_11_cat_84', 'ps_car_11_cat_85', 'ps_car_11_cat_86', 'ps_car_11_cat_87', 'ps_car_11_cat_88', 'ps_car_11_cat_89', 'ps_car_11_cat_90', 'ps_car_11_cat_91', 'ps_car_11_cat_92', 'ps_car_11_cat_93', 'ps_car_11_cat_94', 'ps_car_11_cat_95', 'ps_car_11_cat_96', 'ps_car_11_cat_97', 'ps_car_11_cat_98', 'ps_car_11_cat_99', 'ps_car_11_cat_100', 'ps_car_11_cat_101', 'ps_car_11_cat_102', 'ps_car_11_cat_103', 'ps_car_11_cat_104']\n['ps_reg_01', 'ps_reg_02', 'ps_reg_03', 'ps_car_11', 'ps_car_12', 'ps_car_13', 'ps_car_14', 'ps_car_15', 'ps_calc_01', 'ps_calc_02', 'ps_calc_03']\n"
     ]
    }
   ],
   "source": [
    "# 获取各个列的类型\n",
    "def get_column_type_pair_list(df: pd.DataFrame) -> list:\n",
    "    dtype_info = df.dtypes\n",
    "    return list(zip(list(dtype_info.index), [col.name for col in dtype_info]))\n",
    "\n",
    "\n",
    "column_name_list_feature_type_int = [\n",
    "    x[0]\n",
    "    for x in filter(\n",
    "        lambda x: 'float' not in x[1] and 'id' not in x[0] and 'target' not in x[0], \n",
    "        get_column_type_pair_list(data_train_catergory_onehot)\n",
    "    )\n",
    "]\n",
    "\n",
    "column_name_list_feature_type_float = [\n",
    "    x[0]\n",
    "    for x in filter(\n",
    "        lambda x: 'float' in x[1] and 'id' not in x[0] and 'target' not in x[0], \n",
    "        get_column_type_pair_list(data_train_catergory_onehot)\n",
    "    )\n",
    "]\n",
    "\n",
    "print(column_name_list_feature_type_int)\n",
    "print(column_name_list_feature_type_float)\n"
   ]
  },
  {
   "cell_type": "code",
   "execution_count": 7,
   "metadata": {},
   "outputs": [
    {
     "name": "stdout",
     "output_type": "stream",
     "text": [
      "ps_ind_18_bin 1 0 2 [0, 1]\nps_ind_17_bin 1 0 2 [0, 1]\nps_ind_16_bin 1 0 2 [0, 1]\nps_ind_15 13 0 14 [0, 1, 2, 3, 4, 5, 6, 7, 8, 9, 10, 11, 12, 13]\nps_ind_14 4 0 5 [0, 1, 2, 3, 4]\nps_ind_13_bin 1 0 2 [0, 1]\nps_ind_12_bin 1 0 2 [0, 1]\nps_ind_11_bin 1 0 2 [0, 1]\nps_ind_10_bin 1 0 2 [0, 1]\nps_ind_09_bin 1 0 2 [0, 1]\nps_ind_08_bin 1 0 2 [0, 1]\nps_ind_07_bin 1 0 2 [0, 1]\nps_ind_06_bin 1 0 2 [0, 1]\nps_ind_05_cat_6 1 0 2 [0, 1]\n"
     ]
    },
    {
     "name": "stdout",
     "output_type": "stream",
     "text": [
      "ps_ind_05_cat_5 1 0 2 [0, 1]\nps_ind_05_cat_4 1 0 2 [0, 1]\nps_ind_05_cat_3 1 0 2 [0, 1]\nps_ind_05_cat_2 1 0 2 [0, 1]\nps_ind_05_cat_1 1 0 2 [0, 1]\nps_ind_05_cat_0 1 0 2 [0, 1]\nps_ind_05_cat_-1 1 0 2 [0, 1]\nps_ind_04_cat_1 1 0 2 [0, 1]\nps_ind_04_cat_0 1 0 2 [0, 1]\nps_ind_04_cat_-1 1 0 2 [0, 1]\nps_ind_03 11 0 12 [0, 1, 2, 3, 4, 5, 6, 7, 8, 9, 10, 11]\nps_ind_02_cat_4 1 0 2 [0, 1]\nps_ind_02_cat_3 1 0 2 [0, 1]\nps_ind_02_cat_2 1 0 2 [0, 1]\nps_ind_02_cat_1 1 0 2 [0, 1]\nps_ind_02_cat_-1 1 0 2 [0, 1]\nps_ind_01 7 0 8 [0, 1, 2, 3, 4, 5, 6, 7]\nps_car_11_cat_99 1 0 2 [0, 1]\n"
     ]
    },
    {
     "name": "stdout",
     "output_type": "stream",
     "text": [
      "ps_car_11_cat_98 1 0 2 [0, 1]\nps_car_11_cat_97 1 0 2 [0, 1]\nps_car_11_cat_96 1 0 2 [0, 1]\nps_car_11_cat_95 1 0 2 [0, 1]\nps_car_11_cat_94 1 0 2 [0, 1]\nps_car_11_cat_93 1 0 2 [0, 1]\nps_car_11_cat_92 1 0 2 [0, 1]\nps_car_11_cat_91 1 0 2 [0, 1]\nps_car_11_cat_90 1 0 2 [0, 1]\nps_car_11_cat_9 1 0 2 [0, 1]\nps_car_11_cat_89 1 0 2 [0, 1]\nps_car_11_cat_88 1 0 2 [0, 1]\nps_car_11_cat_87 1 0 2 [0, 1]\nps_car_11_cat_86 1 0 2 [0, 1]\nps_car_11_cat_85 1 0 2 [0, 1]\nps_car_11_cat_84 1 0 2 [0, 1]\nps_car_11_cat_83 1 0 2 [0, 1]\nps_car_11_cat_82 1 0 2 [0, 1]\n"
     ]
    },
    {
     "name": "stdout",
     "output_type": "stream",
     "text": [
      "ps_car_11_cat_81 1 0 2 [0, 1]\nps_car_11_cat_80 1 0 2 [0, 1]\nps_car_11_cat_8 1 0 2 [0, 1]\nps_car_11_cat_79 1 0 2 [0, 1]\nps_car_11_cat_78 1 0 2 [0, 1]\nps_car_11_cat_77 1 0 2 [0, 1]\nps_car_11_cat_76 1 0 2 [0, 1]\nps_car_11_cat_75 1 0 2 [0, 1]\nps_car_11_cat_74 1 0 2 [0, 1]\nps_car_11_cat_73 1 0 2 [0, 1]\nps_car_11_cat_72 1 0 2 [0, 1]\nps_car_11_cat_71 1 0 2 [0, 1]\nps_car_11_cat_70 1 0 2 [0, 1]\nps_car_11_cat_7 1 0 2 [0, 1]\nps_car_11_cat_69 1 0 2 [0, 1]\nps_car_11_cat_68 1 0 2 [0, 1]\nps_car_11_cat_67 1 0 2 [0, 1]\n"
     ]
    },
    {
     "name": "stdout",
     "output_type": "stream",
     "text": [
      "ps_car_11_cat_66 1 0 2 [0, 1]\nps_car_11_cat_65 1 0 2 [0, 1]\nps_car_11_cat_64 1 0 2 [0, 1]\nps_car_11_cat_63 1 0 2 [0, 1]\nps_car_11_cat_62 1 0 2 [0, 1]\nps_car_11_cat_61 1 0 2 [0, 1]\nps_car_11_cat_60 1 0 2 [0, 1]\nps_car_11_cat_6 1 0 2 [0, 1]\nps_car_11_cat_59 1 0 2 [0, 1]\nps_car_11_cat_58 1 0 2 [0, 1]\nps_car_11_cat_57 1 0 2 [0, 1]\nps_car_11_cat_56 1 0 2 [0, 1]\nps_car_11_cat_55 1 0 2 [0, 1]\nps_car_11_cat_54 1 0 2 [0, 1]\nps_car_11_cat_53 1 0 2 [0, 1]\nps_car_11_cat_52 1 0 2 [0, 1]\nps_car_11_cat_51 1 0 2 [0, 1]\nps_car_11_cat_50 1 0 2 [0, 1]\n"
     ]
    },
    {
     "name": "stdout",
     "output_type": "stream",
     "text": [
      "ps_car_11_cat_5 1 0 2 [0, 1]\nps_car_11_cat_49 1 0 2 [0, 1]\nps_car_11_cat_48 1 0 2 [0, 1]\nps_car_11_cat_47 1 0 2 [0, 1]\nps_car_11_cat_46 1 0 2 [0, 1]\nps_car_11_cat_45 1 0 2 [0, 1]\nps_car_11_cat_44 1 0 2 [0, 1]\nps_car_11_cat_43 1 0 2 [0, 1]\nps_car_11_cat_42 1 0 2 [0, 1]\nps_car_11_cat_41 1 0 2 [0, 1]\nps_car_11_cat_40 1 0 2 [0, 1]\nps_car_11_cat_4 1 0 2 [0, 1]\nps_car_11_cat_39 1 0 2 [0, 1]\nps_car_11_cat_38 1 0 2 [0, 1]\nps_car_11_cat_37 1 0 2 [0, 1]\nps_car_11_cat_36 1 0 2 [0, 1]\nps_car_11_cat_35 1 0 2 [0, 1]\nps_car_11_cat_34 1 0 2 [0, 1]\n"
     ]
    },
    {
     "name": "stdout",
     "output_type": "stream",
     "text": [
      "ps_car_11_cat_33 1 0 2 [0, 1]\nps_car_11_cat_32 1 0 2 [0, 1]\nps_car_11_cat_31 1 0 2 [0, 1]\nps_car_11_cat_30 1 0 2 [0, 1]\nps_car_11_cat_3 1 0 2 [0, 1]\nps_car_11_cat_29 1 0 2 [0, 1]\nps_car_11_cat_28 1 0 2 [0, 1]\nps_car_11_cat_27 1 0 2 [0, 1]\nps_car_11_cat_26 1 0 2 [0, 1]\nps_car_11_cat_25 1 0 2 [0, 1]\nps_car_11_cat_24 1 0 2 [0, 1]\nps_car_11_cat_23 1 0 2 [0, 1]\nps_car_11_cat_22 1 0 2 [0, 1]\nps_car_11_cat_21 1 0 2 [0, 1]\nps_car_11_cat_20 1 0 2 [0, 1]\nps_car_11_cat_2 1 0 2 [0, 1]\nps_car_11_cat_19 1 0 2 [0, 1]\n"
     ]
    },
    {
     "name": "stdout",
     "output_type": "stream",
     "text": [
      "ps_car_11_cat_18 1 0 2 [0, 1]\nps_car_11_cat_17 1 0 2 [0, 1]\nps_car_11_cat_16 1 0 2 [0, 1]\nps_car_11_cat_15 1 0 2 [0, 1]\nps_car_11_cat_14 1 0 2 [0, 1]\nps_car_11_cat_13 1 0 2 [0, 1]\nps_car_11_cat_12 1 0 2 [0, 1]\nps_car_11_cat_11 1 0 2 [0, 1]\nps_car_11_cat_104 1 0 2 [0, 1]\nps_car_11_cat_103 1 0 2 [0, 1]\nps_car_11_cat_102 1 0 2 [0, 1]\nps_car_11_cat_101 1 0 2 [0, 1]\nps_car_11_cat_100 1 0 2 [0, 1]\nps_car_11_cat_10 1 0 2 [0, 1]\nps_car_11_cat_1 1 0 2 [0, 1]\nps_car_10_cat_2 1 0 2 [0, 1]\nps_car_10_cat_1 1 0 2 [0, 1]\nps_car_10_cat_0 1 0 2 [0, 1]\n"
     ]
    },
    {
     "name": "stdout",
     "output_type": "stream",
     "text": [
      "ps_car_09_cat_4 1 0 2 [0, 1]\nps_car_09_cat_3 1 0 2 [0, 1]\nps_car_09_cat_2 1 0 2 [0, 1]\nps_car_09_cat_1 1 0 2 [0, 1]\nps_car_09_cat_0 1 0 2 [0, 1]\nps_car_09_cat_-1 1 0 2 [0, 1]\nps_car_08_cat_1 1 0 2 [0, 1]\nps_car_08_cat_0 1 0 2 [0, 1]\nps_car_07_cat_1 1 0 2 [0, 1]\nps_car_07_cat_0 1 0 2 [0, 1]\nps_car_07_cat_-1 1 0 2 [0, 1]\nps_car_06_cat_9 1 0 2 [0, 1]\nps_car_06_cat_8 1 0 2 [0, 1]\nps_car_06_cat_7 1 0 2 [0, 1]\nps_car_06_cat_6 1 0 2 [0, 1]\nps_car_06_cat_5 1 0 2 [0, 1]\nps_car_06_cat_4 1 0 2 [0, 1]\nps_car_06_cat_3 1 0 2 [0, 1]\n"
     ]
    },
    {
     "name": "stdout",
     "output_type": "stream",
     "text": [
      "ps_car_06_cat_2 1 0 2 [0, 1]\nps_car_06_cat_17 1 0 2 [0, 1]\nps_car_06_cat_16 1 0 2 [0, 1]\nps_car_06_cat_15 1 0 2 [0, 1]\nps_car_06_cat_14 1 0 2 [0, 1]\nps_car_06_cat_13 1 0 2 [0, 1]\nps_car_06_cat_12 1 0 2 [0, 1]\nps_car_06_cat_11 1 0 2 [0, 1]\nps_car_06_cat_10 1 0 2 [0, 1]\nps_car_06_cat_1 1 0 2 [0, 1]\nps_car_06_cat_0 1 0 2 [0, 1]\nps_car_05_cat_1 1 0 2 [0, 1]\nps_car_05_cat_0 1 0 2 [0, 1]\nps_car_05_cat_-1 1 0 2 [0, 1]\nps_car_04_cat_9 1 0 2 [0, 1]\nps_car_04_cat_8 1 0 2 [0, 1]\nps_car_04_cat_7 1 0 2 [0, 1]\nps_car_04_cat_6 1 0 2 [0, 1]\n"
     ]
    },
    {
     "name": "stdout",
     "output_type": "stream",
     "text": [
      "ps_car_04_cat_5 1 0 2 [0, 1]\nps_car_04_cat_4 1 0 2 [0, 1]\nps_car_04_cat_3 1 0 2 [0, 1]\nps_car_04_cat_2 1 0 2 [0, 1]\nps_car_04_cat_1 1 0 2 [0, 1]\nps_car_04_cat_0 1 0 2 [0, 1]\nps_car_03_cat_1 1 0 2 [0, 1]\nps_car_03_cat_0 1 0 2 [0, 1]\nps_car_03_cat_-1 1 0 2 [0, 1]\nps_car_02_cat_1 1 0 2 [0, 1]\nps_car_02_cat_0 1 0 2 [0, 1]\nps_car_02_cat_-1 1 0 2 [0, 1]\nps_car_01_cat_9 1 0 2 [0, 1]\nps_car_01_cat_8 1 0 2 [0, 1]\nps_car_01_cat_7 1 0 2 [0, 1]\nps_car_01_cat_6 1 0 2 [0, 1]\nps_car_01_cat_5 1 0 2 [0, 1]\nps_car_01_cat_4 1 0 2 [0, 1]\n"
     ]
    },
    {
     "name": "stdout",
     "output_type": "stream",
     "text": [
      "ps_car_01_cat_3 1 0 2 [0, 1]\nps_car_01_cat_2 1 0 2 [0, 1]\nps_car_01_cat_11 1 0 2 [0, 1]\nps_car_01_cat_10 1 0 2 [0, 1]\nps_car_01_cat_1 1 0 2 [0, 1]\nps_car_01_cat_0 1 0 2 [0, 1]\nps_car_01_cat_-1 1 0 2 [0, 1]\nps_calc_20_bin 1 0 2 [0, 1]\nps_calc_19_bin 1 0 2 [0, 1]\nps_calc_18_bin 1 0 2 [0, 1]\nps_calc_17_bin 1 0 2 [0, 1]\nps_calc_16_bin 1 0 2 [0, 1]\nps_calc_15_bin 1 0 2 [0, 1]\nps_calc_14 23 0 24 [0, 1, 2, 3, 4, 5, 6, 7, 8, 9, 10, 11, 12, 13, 14, 15, 16, 17, 18, 19, 20, 21, 22, 23]\nps_calc_13 13 0 14 [0, 1, 2, 3, 4, 5, 6, 7, 8, 9, 10, 11, 12, 13]\nps_calc_12 10 0 11 [0, 1, 2, 3, 4, 5, 6, 7, 8, 9, 10]\nps_calc_11 19 0 20 [0, 1, 2, 3, 4, 5, 6, 7, 8, 9, 10, 11, 12, 13, 14, 15, 16, 17, 18, 19]\nps_calc_10 25 0 26 [0, 1, 2, 3, 4, 5, 6, 7, 8, 9, 10, 11, 12, 13, 14, 15, 16, 17, 18, 19, 20, 21, 22, 23, 24, 25]\n"
     ]
    },
    {
     "name": "stdout",
     "output_type": "stream",
     "text": [
      "ps_calc_09 7 0 8 [0, 1, 2, 3, 4, 5, 6, 7]\nps_calc_08 12 2 11 [2, 3, 4, 5, 6, 7, 8, 9, 10, 11, 12]\nps_calc_07 9 0 10 [0, 1, 2, 3, 4, 5, 6, 7, 8, 9]\nps_calc_06 10 0 11 [0, 1, 2, 3, 4, 5, 6, 7, 8, 9, 10]\nps_calc_05 6 0 7 [0, 1, 2, 3, 4, 5, 6]\nps_calc_04 5 0 6 [0, 1, 2, 3, 4, 5]\n"
     ]
    }
   ],
   "source": [
    "# 整数类型的特征先indexing\n",
    "feature_all_embedding_offset = 0\n",
    "\n",
    "data_train_catergory_onehot_int_indexing, feature_all_embedding_length = preprocess_utils.indexing(\n",
    "    df=data_train_catergory_onehot,\n",
    "    columns=sorted(column_name_list_feature_type_int, reverse=True),\n",
    "    offset=feature_all_embedding_offset,\n",
    "    neat=False\n",
    ")\n",
    "feature_all_embedding_length = math.ceil(feature_all_embedding_length/100)*100"
   ]
  },
  {
   "cell_type": "code",
   "execution_count": 10,
   "metadata": {},
   "outputs": [],
   "source": [
    "# 保存indexing后的offset\n",
    "feature_all_config.parameter.put('embedding.index.offset', feature_all_embedding_offset)\n",
    "feature_all_config.parameter.put('embedding.index.length', feature_all_embedding_length)"
   ]
  },
  {
   "cell_type": "code",
   "execution_count": 11,
   "metadata": {},
   "outputs": [],
   "source": [
    "data_train_preprocessing_save_1_path = config.data.path('train_preprocessing_save_1.csv')\n",
    "data_train_preprocessing_save_1_clip_path = config.data.path('train_preprocessing_save_1_clip.csv')\n"
   ]
  },
  {
   "cell_type": "code",
   "execution_count": 12,
   "metadata": {},
   "outputs": [],
   "source": [
    "data_train_catergory_onehot_int_indexing.to_csv(data_train_preprocessing_save_1_path, index=False)"
   ]
  },
  {
   "cell_type": "code",
   "execution_count": 13,
   "metadata": {},
   "outputs": [],
   "source": [
    "data_train_catergory_onehot_int_indexing\\\n",
    "    .groupby('target').apply(lambda x: x.sample(frac=0.005))\\\n",
    "    .to_csv(data_train_preprocessing_save_1_clip_path, index=False)"
   ]
  },
  {
   "cell_type": "code",
   "execution_count": null,
   "metadata": {},
   "outputs": [],
   "source": [
    "data_train_catergory_onehot_int_indexing = pd.read_csv(data_train_preprocessing_save_1_path)"
   ]
  },
  {
   "cell_type": "code",
   "execution_count": 91,
   "metadata": {},
   "outputs": [],
   "source": [
    "# 计算下相关性\n",
    "cor = data_train_catergory_onehot.corr()"
   ]
  },
  {
   "cell_type": "code",
   "execution_count": null,
   "metadata": {},
   "outputs": [],
   "source": []
  },
  {
   "cell_type": "code",
   "execution_count": 96,
   "metadata": {},
   "outputs": [
    {
     "name": "stdout",
     "output_type": "stream",
     "text": [
      "ps_car_01_cat_7     -0.176180\nps_car_02_cat_1     -0.135702\nps_car_06_cat_0     -0.108981\nps_ind_06_bin       -0.096757\nps_car_01_cat_5     -0.092467\nps_car_04_cat_2     -0.086243\nps_ind_02_cat_1     -0.081510\nps_car_01_cat_4     -0.078400\nps_car_09_cat_0     -0.072855\nps_car_06_cat_1     -0.071510\nps_car_11_cat_32    -0.065386\nps_car_11_cat_87    -0.065127\nps_ind_04_cat_0     -0.064709\nps_car_11_cat_65    -0.060460\nps_car_11_cat_1     -0.060075\nps_car_01_cat_6     -0.058145\nps_car_11_cat_100   -0.053164\nps_car_06_cat_17     0.051723\nps_car_04_cat_9      0.055411\nps_car_07_cat_-1     0.057029\nps_ind_17_bin        0.059237\nps_car_01_cat_10     0.060911\nps_car_03_cat_1      0.062367\nps_car_06_cat_9      0.062469\nps_ind_04_cat_1      0.065224\nps_car_11_cat_28     0.066642\nps_ind_02_cat_2      0.068514\nps_car_09_cat_1      0.071275\nps_car_11            0.080365\nps_car_12            0.082621\nps_car_11_cat_104    0.084215\nps_car_06_cat_10     0.085541\nps_car_13            0.099415\nps_car_04_cat_1      0.100338\nps_ind_09_bin        0.133761\nps_car_02_cat_0      0.135706\nps_ind_01            0.139125\nps_car_01_cat_11     0.228484\nps_reg_02            0.516457\nps_reg_01            0.637035\nps_reg_03            1.000000\nName: ps_reg_03, dtype: float64\n"
     ]
    }
   ],
   "source": [
    "print(cor[abs(cor['ps_reg_03']) > 0.05]['ps_reg_03'].sort_values())"
   ]
  },
  {
   "cell_type": "code",
   "execution_count": 98,
   "metadata": {},
   "outputs": [],
   "source": [
    "data_train_catergory_onehot_ps_reg_03_intact = data_train_catergory_onehot[data_train_catergory_onehot['ps_reg_03'] != -1]\n",
    "data_train_catergory_onehot_ps_reg_03_missing = data_train_catergory_onehot[data_train_catergory_onehot['ps_reg_03'] == -1]"
   ]
  },
  {
   "cell_type": "code",
   "execution_count": 101,
   "metadata": {},
   "outputs": [
    {
     "name": "stdout",
     "output_type": "stream",
     "text": [
      "487440\n107772\n"
     ]
    }
   ],
   "source": [
    "print(len(data_train_catergory_onehot_ps_reg_03_intact))\n",
    "print(len(data_train_catergory_onehot_ps_reg_03_missing))"
   ]
  },
  {
   "cell_type": "code",
   "execution_count": 102,
   "metadata": {},
   "outputs": [],
   "source": [
    "preprocessed_data_column_name_list_feature_all = preprocess_utils.get_column_name_list_by_prefix(\n",
    "    df=data_train_catergory_onehot,\n",
    "    prefix='ps'\n",
    ")"
   ]
  },
  {
   "cell_type": "code",
   "execution_count": 103,
   "metadata": {},
   "outputs": [
    {
     "name": "stdout",
     "output_type": "stream",
     "text": [
      "['ps_ind_01', 'ps_ind_03', 'ps_ind_06_bin', 'ps_ind_07_bin', 'ps_ind_08_bin', 'ps_ind_09_bin', 'ps_ind_10_bin', 'ps_ind_11_bin', 'ps_ind_12_bin', 'ps_ind_13_bin', 'ps_ind_14', 'ps_ind_15', 'ps_ind_16_bin', 'ps_ind_17_bin', 'ps_ind_18_bin', 'ps_reg_01', 'ps_reg_02', 'ps_reg_03', 'ps_car_11', 'ps_car_12', 'ps_car_13', 'ps_car_14', 'ps_car_15', 'ps_calc_01', 'ps_calc_02', 'ps_calc_03', 'ps_calc_04', 'ps_calc_05', 'ps_calc_06', 'ps_calc_07', 'ps_calc_08', 'ps_calc_09', 'ps_calc_10', 'ps_calc_11', 'ps_calc_12', 'ps_calc_13', 'ps_calc_14', 'ps_calc_15_bin', 'ps_calc_16_bin', 'ps_calc_17_bin', 'ps_calc_18_bin', 'ps_calc_19_bin', 'ps_calc_20_bin', 'ps_ind_02_cat_-1', 'ps_ind_02_cat_1', 'ps_ind_02_cat_2', 'ps_ind_02_cat_3', 'ps_ind_02_cat_4', 'ps_ind_04_cat_-1', 'ps_ind_04_cat_0', 'ps_ind_04_cat_1', 'ps_ind_05_cat_-1', 'ps_ind_05_cat_0', 'ps_ind_05_cat_1', 'ps_ind_05_cat_2', 'ps_ind_05_cat_3', 'ps_ind_05_cat_4', 'ps_ind_05_cat_5', 'ps_ind_05_cat_6', 'ps_car_01_cat_-1', 'ps_car_01_cat_0', 'ps_car_01_cat_1', 'ps_car_01_cat_2', 'ps_car_01_cat_3', 'ps_car_01_cat_4', 'ps_car_01_cat_5', 'ps_car_01_cat_6', 'ps_car_01_cat_7', 'ps_car_01_cat_8', 'ps_car_01_cat_9', 'ps_car_01_cat_10', 'ps_car_01_cat_11', 'ps_car_02_cat_-1', 'ps_car_02_cat_0', 'ps_car_02_cat_1', 'ps_car_03_cat_-1', 'ps_car_03_cat_0', 'ps_car_03_cat_1', 'ps_car_04_cat_0', 'ps_car_04_cat_1', 'ps_car_04_cat_2', 'ps_car_04_cat_3', 'ps_car_04_cat_4', 'ps_car_04_cat_5', 'ps_car_04_cat_6', 'ps_car_04_cat_7', 'ps_car_04_cat_8', 'ps_car_04_cat_9', 'ps_car_05_cat_-1', 'ps_car_05_cat_0', 'ps_car_05_cat_1', 'ps_car_06_cat_0', 'ps_car_06_cat_1', 'ps_car_06_cat_2', 'ps_car_06_cat_3', 'ps_car_06_cat_4', 'ps_car_06_cat_5', 'ps_car_06_cat_6', 'ps_car_06_cat_7', 'ps_car_06_cat_8', 'ps_car_06_cat_9', 'ps_car_06_cat_10', 'ps_car_06_cat_11', 'ps_car_06_cat_12', 'ps_car_06_cat_13', 'ps_car_06_cat_14', 'ps_car_06_cat_15', 'ps_car_06_cat_16', 'ps_car_06_cat_17', 'ps_car_07_cat_-1', 'ps_car_07_cat_0', 'ps_car_07_cat_1', 'ps_car_08_cat_0', 'ps_car_08_cat_1', 'ps_car_09_cat_-1', 'ps_car_09_cat_0', 'ps_car_09_cat_1', 'ps_car_09_cat_2', 'ps_car_09_cat_3', 'ps_car_09_cat_4', 'ps_car_10_cat_0', 'ps_car_10_cat_1', 'ps_car_10_cat_2', 'ps_car_11_cat_1', 'ps_car_11_cat_2', 'ps_car_11_cat_3', 'ps_car_11_cat_4', 'ps_car_11_cat_5', 'ps_car_11_cat_6', 'ps_car_11_cat_7', 'ps_car_11_cat_8', 'ps_car_11_cat_9', 'ps_car_11_cat_10', 'ps_car_11_cat_11', 'ps_car_11_cat_12', 'ps_car_11_cat_13', 'ps_car_11_cat_14', 'ps_car_11_cat_15', 'ps_car_11_cat_16', 'ps_car_11_cat_17', 'ps_car_11_cat_18', 'ps_car_11_cat_19', 'ps_car_11_cat_20', 'ps_car_11_cat_21', 'ps_car_11_cat_22', 'ps_car_11_cat_23', 'ps_car_11_cat_24', 'ps_car_11_cat_25', 'ps_car_11_cat_26', 'ps_car_11_cat_27', 'ps_car_11_cat_28', 'ps_car_11_cat_29', 'ps_car_11_cat_30', 'ps_car_11_cat_31', 'ps_car_11_cat_32', 'ps_car_11_cat_33', 'ps_car_11_cat_34', 'ps_car_11_cat_35', 'ps_car_11_cat_36', 'ps_car_11_cat_37', 'ps_car_11_cat_38', 'ps_car_11_cat_39', 'ps_car_11_cat_40', 'ps_car_11_cat_41', 'ps_car_11_cat_42', 'ps_car_11_cat_43', 'ps_car_11_cat_44', 'ps_car_11_cat_45', 'ps_car_11_cat_46', 'ps_car_11_cat_47', 'ps_car_11_cat_48', 'ps_car_11_cat_49', 'ps_car_11_cat_50', 'ps_car_11_cat_51', 'ps_car_11_cat_52', 'ps_car_11_cat_53', 'ps_car_11_cat_54', 'ps_car_11_cat_55', 'ps_car_11_cat_56', 'ps_car_11_cat_57', 'ps_car_11_cat_58', 'ps_car_11_cat_59', 'ps_car_11_cat_60', 'ps_car_11_cat_61', 'ps_car_11_cat_62', 'ps_car_11_cat_63', 'ps_car_11_cat_64', 'ps_car_11_cat_65', 'ps_car_11_cat_66', 'ps_car_11_cat_67', 'ps_car_11_cat_68', 'ps_car_11_cat_69', 'ps_car_11_cat_70', 'ps_car_11_cat_71', 'ps_car_11_cat_72', 'ps_car_11_cat_73', 'ps_car_11_cat_74', 'ps_car_11_cat_75', 'ps_car_11_cat_76', 'ps_car_11_cat_77', 'ps_car_11_cat_78', 'ps_car_11_cat_79', 'ps_car_11_cat_80', 'ps_car_11_cat_81', 'ps_car_11_cat_82', 'ps_car_11_cat_83', 'ps_car_11_cat_84', 'ps_car_11_cat_85', 'ps_car_11_cat_86', 'ps_car_11_cat_87', 'ps_car_11_cat_88', 'ps_car_11_cat_89', 'ps_car_11_cat_90', 'ps_car_11_cat_91', 'ps_car_11_cat_92', 'ps_car_11_cat_93', 'ps_car_11_cat_94', 'ps_car_11_cat_95', 'ps_car_11_cat_96', 'ps_car_11_cat_97', 'ps_car_11_cat_98', 'ps_car_11_cat_99', 'ps_car_11_cat_100', 'ps_car_11_cat_101', 'ps_car_11_cat_102', 'ps_car_11_cat_103', 'ps_car_11_cat_104']\n"
     ]
    }
   ],
   "source": [
    "print(preprocessed_data_column_name_list_feature_all)"
   ]
  },
  {
   "cell_type": "code",
   "execution_count": 104,
   "metadata": {},
   "outputs": [],
   "source": [
    "from sklearn.model_selection import KFold, train_test_split\n",
    "from sklearn.metrics import confusion_matrix\n",
    "from sklearn.metrics import accuracy_score\n",
    "from sklearn.metrics import precision_recall_fscore_support\n",
    "\n"
   ]
  },
  {
   "cell_type": "code",
   "execution_count": null,
   "metadata": {},
   "outputs": [
    {
     "name": "stderr",
     "output_type": "stream",
     "text": [
      "/Users/kami.wm/Environment/DataScience-python3.6/lib/python3.6/site-packages/sklearn/model_selection/_split.py:2026: FutureWarning: From version 0.21, test_size will always complement train_size unless both are specified.\n  FutureWarning)\n"
     ]
    }
   ],
   "source": [
    "data_fill_reg_0s = data_train_catergory_onehot_ps_reg_03_intact.sample(n=1000)\n",
    "\n",
    "x_fill_reg_03 = \\\n",
    "    data_fill_reg_0s[preprocessed_data_column_name_list_feature_all]\n",
    "y_fill_reg_03 = \\\n",
    "    data_fill_reg_0s['ps_reg_03']\n",
    "\n",
    "x_fill_reg_03_train, x_fill_reg_03_test, y_fill_reg_03_train, y_fill_reg_03_test = train_test_split(\n",
    "    x_fill_reg_03.values, y_fill_reg_03.values, train_size=0.8)"
   ]
  },
  {
   "cell_type": "code",
   "execution_count": 106,
   "metadata": {},
   "outputs": [
    {
     "name": "stdout",
     "output_type": "stream",
     "text": [
      "########################################################################################################################\n构建模型\n"
     ]
    }
   ],
   "source": [
    "import xgboost as xgb\n",
    "\n",
    "print(\"#\"*120)\n",
    "print(\"构建模型\")\n",
    "xgb_model = xgb.XGBClassifier(\n",
    "    objective= 'reg:logistic',\n",
    "    max_depth=5,\n",
    "    min_child_weight=1,\n",
    "    nthread=8,\n",
    ")\n"
   ]
  },
  {
   "cell_type": "code",
   "execution_count": 113,
   "metadata": {},
   "outputs": [],
   "source": [
    "rng = np.random.RandomState(31337)\n",
    "kf = KFold(n_splits=4, shuffle=True, random_state=rng)\n",
    "\n",
    "for i, (train_index, test_index) in enumerate(kf.split(x_fill_reg_03_train, y_fill_reg_03_train)):\n",
    "    xgb_model.fit(x_fill_reg_03_train[train_index], y_fill_reg_03_train[train_index])\n",
    "\n",
    "    _y = xgb_model.predict(x_fill_reg_03_train[test_index])\n",
    "    y = y_fill_reg_03_train[test_index]\n",
    "\n",
    "    confuse = confusion_matrix(y, _y)\n",
    "    print(\"第{0}次, CV混淆矩阵 = \".format(i))\n",
    "    print(confuse)\n",
    "\n",
    "    acc = accuracy_score(xgb_model.predict(x_fill_reg_03_test), y_fill_reg_03_test)\n",
    "\n",
    "    print(\"第{0}次, 测试集准确率 = \".format(i))\n",
    "    print(acc)"
   ]
  },
  {
   "cell_type": "code",
   "execution_count": null,
   "metadata": {},
   "outputs": [],
   "source": []
  }
 ],
 "metadata": {
  "kernelspec": {
   "display_name": "Python 2",
   "language": "python",
   "name": "python2"
  },
  "language_info": {
   "codemirror_mode": {
    "name": "ipython",
    "version": 2
   },
   "file_extension": ".py",
   "mimetype": "text/x-python",
   "name": "python",
   "nbconvert_exporter": "python",
   "pygments_lexer": "ipython2",
   "version": "2.7.6"
  }
 },
 "nbformat": 4,
 "nbformat_minor": 0
}

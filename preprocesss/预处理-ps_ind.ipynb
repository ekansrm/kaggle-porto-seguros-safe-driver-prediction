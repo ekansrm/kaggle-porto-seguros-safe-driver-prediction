{
 "cells": [
  {
   "cell_type": "code",
   "execution_count": null,
   "metadata": {
    "collapsed": true
   },
   "outputs": [],
   "source": [
    "import pandas as pd\n",
    "import pprint\n",
    "from setup import config"
   ]
  },
  {
   "cell_type": "code",
   "execution_count": 85,
   "metadata": {},
   "outputs": [],
   "source": [
    "data_set_train_path = config.data.path('train.csv')\n",
    "data_set_train_ps_ind_path = config.data.path('train_ps_ind.csv')"
   ]
  },
  {
   "cell_type": "code",
   "execution_count": 51,
   "metadata": {},
   "outputs": [],
   "source": [
    "data_set_train = pd.read_csv(data_set_train_path)"
   ]
  },
  {
   "cell_type": "code",
   "execution_count": 52,
   "metadata": {},
   "outputs": [
    {
     "name": "stdout",
     "output_type": "stream",
     "text": [
      "['id',\n 'target',\n 'ps_ind_01',\n 'ps_ind_02_cat',\n 'ps_ind_03',\n 'ps_ind_04_cat',\n 'ps_ind_05_cat',\n 'ps_ind_06_bin',\n 'ps_ind_07_bin',\n 'ps_ind_08_bin',\n 'ps_ind_09_bin',\n 'ps_ind_10_bin',\n 'ps_ind_11_bin',\n 'ps_ind_12_bin',\n 'ps_ind_13_bin',\n 'ps_ind_14',\n 'ps_ind_15',\n 'ps_ind_16_bin',\n 'ps_ind_17_bin',\n 'ps_ind_18_bin',\n 'ps_reg_01',\n 'ps_reg_02',\n 'ps_reg_03',\n 'ps_car_01_cat',\n 'ps_car_02_cat',\n 'ps_car_03_cat',\n 'ps_car_04_cat',\n 'ps_car_05_cat',\n 'ps_car_06_cat',\n 'ps_car_07_cat',\n 'ps_car_08_cat',\n 'ps_car_09_cat',\n 'ps_car_10_cat',\n 'ps_car_11_cat',\n 'ps_car_11',\n 'ps_car_12',\n 'ps_car_13',\n 'ps_car_14',\n 'ps_car_15',\n 'ps_calc_01',\n 'ps_calc_02',\n 'ps_calc_03',\n 'ps_calc_04',\n 'ps_calc_05',\n 'ps_calc_06',\n 'ps_calc_07',\n 'ps_calc_08',\n 'ps_calc_09',\n 'ps_calc_10',\n 'ps_calc_11',\n 'ps_calc_12',\n 'ps_calc_13',\n 'ps_calc_14',\n 'ps_calc_15_bin',\n 'ps_calc_16_bin',\n 'ps_calc_17_bin',\n 'ps_calc_18_bin',\n 'ps_calc_19_bin',\n 'ps_calc_20_bin']\n"
     ]
    }
   ],
   "source": [
    "data_set_train_columns = list(data_set_train.columns)\n",
    "pprint.pprint(data_set_train_columns)\n"
   ]
  },
  {
   "cell_type": "code",
   "execution_count": 68,
   "metadata": {},
   "outputs": [
    {
     "name": "stdout",
     "output_type": "stream",
     "text": [
      "['ps_ind_01',\n 'ps_ind_02_cat',\n 'ps_ind_03',\n 'ps_ind_04_cat',\n 'ps_ind_05_cat',\n 'ps_ind_06_bin',\n 'ps_ind_07_bin',\n 'ps_ind_08_bin',\n 'ps_ind_09_bin',\n 'ps_ind_10_bin',\n 'ps_ind_11_bin',\n 'ps_ind_12_bin',\n 'ps_ind_13_bin',\n 'ps_ind_14',\n 'ps_ind_15',\n 'ps_ind_16_bin',\n 'ps_ind_17_bin',\n 'ps_ind_18_bin']\n"
     ]
    }
   ],
   "source": [
    "_data_set_train_ps_ind_columns = [col for col in data_set_train_columns if col.startswith('ps_ind')]\n",
    "pprint.pprint(_data_set_train_ps_ind_columns)"
   ]
  },
  {
   "cell_type": "code",
   "execution_count": 69,
   "metadata": {},
   "outputs": [
    {
     "name": "stdout",
     "output_type": "stream",
     "text": [
      "   id  target  ps_ind_01  ps_ind_02_cat  ps_ind_03  ps_ind_04_cat  \\\n0   7       0          2              2          5              1   \n1   9       0          1              1          7              0   \n2  13       0          5              4          9              1   \n3  16       0          0              1          2              0   \n4  17       0          0              2          0              1   \n\n   ps_ind_05_cat  ps_ind_06_bin  ps_ind_07_bin  ps_ind_08_bin  ps_ind_09_bin  \\\n0              0              0              1              0              0   \n1              0              0              0              1              0   \n2              0              0              0              1              0   \n3              0              1              0              0              0   \n4              0              1              0              0              0   \n\n   ps_ind_10_bin  ps_ind_11_bin  ps_ind_12_bin  ps_ind_13_bin  ps_ind_14  \\\n0              0              0              0              0          0   \n1              0              0              0              0          0   \n2              0              0              0              0          0   \n3              0              0              0              0          0   \n4              0              0              0              0          0   \n\n   ps_ind_15  ps_ind_16_bin  ps_ind_17_bin  ps_ind_18_bin  \n0         11              0              1              0  \n1          3              0              0              1  \n2         12              1              0              0  \n3          8              1              0              0  \n4          9              1              0              0  \n"
     ]
    }
   ],
   "source": [
    "# 获取属性 ps_ind 相关列\n",
    "_data_set_train_ps_ind = data_set_train[['id', 'target']+_data_set_train_ps_ind_columns]\n",
    "pprint.pprint(_data_set_train_ps_ind.head(5))"
   ]
  },
  {
   "cell_type": "code",
   "execution_count": 70,
   "metadata": {
    "collapsed": false
   },
   "outputs": [
    {
     "name": "stdout",
     "output_type": "stream",
     "text": [
      "'ps_ind_01:'\n0    187594\n1    143984\n2     82468\n5     61464\n3     51193\n4     33524\n6     17682\n7     17303\nName: ps_ind_01, dtype: int64\n[0, 1, 2, 5, 3, 4, 6, 7]\n'ps_ind_02_cat:'\n 1    431859\n 2    123573\n 3     28186\n 4     11378\n-1       216\nName: ps_ind_02_cat, dtype: int64\n[1, 2, 3, 4, -1]\n'ps_ind_03:'\n2     96110\n3     81973\n1     67994\n4     67213\n5     62803\n6     60406\n7     52364\n8     39667\n9     25436\n0     15514\n10    14484\n11    11248\nName: ps_ind_03, dtype: int64\n[2, 3, 1, 4, 5, 6, 7, 8, 9, 0, 10, 11]\n'ps_ind_04_cat:'\n 0    346965\n 1    248164\n-1        83\nName: ps_ind_04_cat, dtype: int64\n[0, 1, -1]\n'ps_ind_05_cat:'\n 0    528009\n 6     20662\n 4     18344\n 1      8322\n 3      8233\n-1      5809\n 2      4184\n 5      1649\nName: ps_ind_05_cat, dtype: int64\n[0, 6, 4, 1, 3, -1, 2, 5]\n'ps_ind_06_bin:'\n0    360852\n1    234360\nName: ps_ind_06_bin, dtype: int64\n[0, 1]\n'ps_ind_07_bin:'\n0    442223\n1    152989\nName: ps_ind_07_bin, dtype: int64\n[0, 1]\n'ps_ind_08_bin:'\n0    497644\n1     97568\nName: ps_ind_08_bin, dtype: int64\n[0, 1]\n'ps_ind_09_bin:'\n0    484917\n1    110295\nName: ps_ind_09_bin, dtype: int64\n[0, 1]\n'ps_ind_10_bin:'\n0    594990\n1       222\nName: ps_ind_10_bin, dtype: int64\n[0, 1]\n'ps_ind_11_bin:'\n0    594205\n1      1007\nName: ps_ind_11_bin, dtype: int64\n[0, 1]\n'ps_ind_12_bin:'\n0    589594\n1      5618\nName: ps_ind_12_bin, dtype: int64\n[0, 1]\n'ps_ind_13_bin:'\n0    594648\n1       564\nName: ps_ind_13_bin, dtype: int64\n[0, 1]\n'ps_ind_14:'\n0    588832\n1      5495\n2       744\n3       136\n4         5\nName: ps_ind_14, dtype: int64\n[0, 1, 2, 3, 4]\n'ps_ind_15:'\n7     65336\n8     59600\n6     58408\n10    54341\n11    53215\n9     45497\n12    44851\n5     42553\n4     41770\n13    35256\n3     32267\n0     31826\n2     18675\n1     11617\nName: ps_ind_15, dtype: int64\n[7, 8, 6, 10, 11, 9, 12, 5, 4, 13, 3, 0, 2, 1]\n'ps_ind_16_bin:'\n1    393330\n0    201882\nName: ps_ind_16_bin, dtype: int64\n[1, 0]\n"
     ]
    },
    {
     "name": "stdout",
     "output_type": "stream",
     "text": [
      "'ps_ind_17_bin:'\n0    523143\n1     72069\nName: ps_ind_17_bin, dtype: int64\n[0, 1]\n'ps_ind_18_bin:'\n0    503879\n1     91333\nName: ps_ind_18_bin, dtype: int64\n[0, 1]\n存在缺失值的列['ps_ind_02_cat', 'ps_ind_04_cat', 'ps_ind_05_cat']\n"
     ]
    }
   ],
   "source": [
    "col_has_missing_value = []\n",
    "for col in _data_set_train_ps_ind_columns:\n",
    "    if col == 'id':\n",
    "        continue\n",
    "    value_counts = _data_set_train_ps_ind[col].value_counts()\n",
    "    value_counts_index = list(value_counts.index)\n",
    "    if -1 in value_counts_index:\n",
    "        col_has_missing_value.append(col)\n",
    "    pprint.pprint(col + ':')\n",
    "    print(value_counts)\n",
    "    print(value_counts_index)\n",
    "\n",
    "print('存在缺失值的列' + str(col_has_missing_value))"
   ]
  },
  {
   "cell_type": "code",
   "execution_count": 82,
   "metadata": {},
   "outputs": [],
   "source": [
    "# 存在缺失值的都是 category, 直接 one-hot编码\n",
    "\n",
    "data_set_train_ps_ind = pd.get_dummies(\n",
    "    data=_data_set_train_ps_ind, \n",
    "    columns=[col for col in _data_set_train_ps_ind_columns if '_cat' in col]\n",
    ")"
   ]
  },
  {
   "cell_type": "code",
   "execution_count": 83,
   "metadata": {},
   "outputs": [
    {
     "name": "stdout",
     "output_type": "stream",
     "text": [
      "['id',\n 'target',\n 'ps_ind_01',\n 'ps_ind_03',\n 'ps_ind_06_bin',\n 'ps_ind_07_bin',\n 'ps_ind_08_bin',\n 'ps_ind_09_bin',\n 'ps_ind_10_bin',\n 'ps_ind_11_bin',\n 'ps_ind_12_bin',\n 'ps_ind_13_bin',\n 'ps_ind_14',\n 'ps_ind_15',\n 'ps_ind_16_bin',\n 'ps_ind_17_bin',\n 'ps_ind_18_bin',\n 'ps_ind_02_cat_-1',\n 'ps_ind_02_cat_1',\n 'ps_ind_02_cat_2',\n 'ps_ind_02_cat_3',\n 'ps_ind_02_cat_4',\n 'ps_ind_04_cat_-1',\n 'ps_ind_04_cat_0',\n 'ps_ind_04_cat_1',\n 'ps_ind_05_cat_-1',\n 'ps_ind_05_cat_0',\n 'ps_ind_05_cat_1',\n 'ps_ind_05_cat_2',\n 'ps_ind_05_cat_3',\n 'ps_ind_05_cat_4',\n 'ps_ind_05_cat_5',\n 'ps_ind_05_cat_6']\n"
     ]
    }
   ],
   "source": [
    "data_set_train_ps_ind_columns = list(data_set_train_ps_ind.columns)\n",
    "pprint.pprint(list(data_set_train_ps_ind_columns))"
   ]
  },
  {
   "cell_type": "code",
   "execution_count": 86,
   "metadata": {},
   "outputs": [],
   "source": [
    "# 保存\n",
    "data_set_train_ps_ind.to_csv(path_or_buf=data_set_train_ps_ind_path, index=False)"
   ]
  },
  {
   "cell_type": "code",
   "execution_count": null,
   "metadata": {},
   "outputs": [],
   "source": []
  }
 ],
 "metadata": {
  "kernelspec": {
   "display_name": "Python 2",
   "language": "python",
   "name": "python2"
  },
  "language_info": {
   "codemirror_mode": {
    "name": "ipython",
    "version": 2
   },
   "file_extension": ".py",
   "mimetype": "text/x-python",
   "name": "python",
   "nbconvert_exporter": "python",
   "pygments_lexer": "ipython2",
   "version": "2.7.6"
  }
 },
 "nbformat": 4,
 "nbformat_minor": 0
}
